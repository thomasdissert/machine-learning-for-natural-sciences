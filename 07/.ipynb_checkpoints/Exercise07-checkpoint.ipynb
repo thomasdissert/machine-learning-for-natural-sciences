{
 "cells": [
  {
   "cell_type": "markdown",
   "id": "8efd9368",
   "metadata": {
    "deletable": false,
    "editable": false,
    "nbgrader": {
     "cell_type": "markdown",
     "checksum": "ac4c430292853eb53eece77e7614d015",
     "grade": false,
     "grade_id": "cell-e12df818732a12f6",
     "locked": true,
     "schema_version": 3,
     "solution": false,
     "task": false
    }
   },
   "source": [
    "# Exercise Sheet No. 7\n",
    "\n",
    "---\n",
    "\n",
    "> Machine Learning for Natural Sciences, Summer 2022, Jun.-Prof. Pascal Friederich\n",
    "> \n",
    "> Deadline: 13.06.2022, 8 am\n",
    "> \n",
    "> Tutor: navid.haghmoradi@kit.edu  \n",
    "> **Please ask questions in the forum and only contact the Tutor when there are issues with the grading**\n",
    "\n",
    "Note:\n",
    "If you encounter problem in visualization of MD trajectories some of the libraries and modules are needed to be updated and reinstalled. So, in that case please after \"conda activate aimat\" write this command line:\n",
    "\n",
    "pip install --upgrade ase\n",
    "\n",
    "If you had problem related to protobuffer after the cell which imports tensorflow, after \"conda activate aimat\":\n",
    "\n",
    "pip install protobuf==3.20.0\n",
    "\n",
    "then run the notebook again.\n",
    "\n",
    "\n",
    "---\n",
    "**Topic**: This exercise sheet will use neural networks for a molecular dynamics simulation"
   ]
  },
  {
   "cell_type": "markdown",
   "id": "258c1db5",
   "metadata": {
    "deletable": false,
    "editable": false,
    "nbgrader": {
     "cell_type": "markdown",
     "checksum": "21f73a8794653d012368dabe02f7c48d",
     "grade": false,
     "grade_id": "cell-74e50a2e55c8739f",
     "locked": true,
     "schema_version": 3,
     "solution": false,
     "task": false
    }
   },
   "source": [
    "# Molecular dynamics simulation\n",
    "\n",
    "\"Molecular dynamics (MD) is a computer simulation method for analyzing the physical movements of atoms and molecules [that are interacting to each other and creating forces among themselves]. (...)  In the most common version, the trajectories of atoms and molecules are determined by numerically solving Newton's equations of motion for a system of interacting particles, where forces between the particles and their potential energies are often calculated using interatomic potentials or molecular mechanics force fields.\" [wikipedia](https://en.wikipedia.org/wiki/Molecular_dynamics)\n",
    "\n",
    "In this exercise we will perform a MD simulation of a single very simple molecule, namely methanol (CH3OH). The propagation of the atomic positions in time is usually treated classically and is given by Newton's Equation for an ensemble of particles:\n",
    "\n",
    "$$ F(X) = - \\nabla U(X) = M \\dot{V}(t)$$\n",
    "\n",
    "$$ V(t) = \\dot{X}(t) $$\n",
    "\n",
    "A molecular dynamics simulation therfore requires the definition of a potential function $U(X)$, or a description of the force terms $F(X)$ by which the particles in the simulation will interact. To correctly capture the molecular interactions, different methods are used for MD simulations, depending on system. The most common are:\n",
    "\n",
    "* Force fields in chemistry are empirical and consist of a summation of bonded forces associated with chemical bonds, bond angles, and bond dihedrals, and non-bonded forces associated with van der Waals forces and electrostatic charge. They are the most used interaction modelling technique for MD.\n",
    "\n",
    "* Pair potentials between particles, in which the total potential energy can be calculated from the sum of energy contributions between pairs of atoms. An example of such a pair potential is the non-bonded Lennard–Jones potential.\n",
    "\n",
    "* Semi-empirical potentials are based on quantum methods, but use empirical formula to determine the energy contributions of the orbitals, e.g. tight-binding potentials\n",
    "\n",
    "*  Ab Initio Molecular Dynamics (AIMD) use quantum mechanical methods for the energy potential, which is more accurate and can describe bond-breaking etc. but which is also much more expensive.\n",
    "\n",
    "* QM/MM methods are hybrids between quantum mechanical (QM) and molecular or classical mechanics (MM), where only a small (and important) part is QM.\n",
    "\n",
    "The goal of this exercise is to derive the correct potential energy by a neural network, which is fast in prediction and, if trained on quantum mechanical (QM) calculations, also ideally as precise a AIMD/QM methods. Only with QM calculations effects such as bond breaking and reactions can be captured in a MD simulation. To work for arbitrary molecules and inter-molecular interactions the neural network potentials have to be convolutional (e.g. deep convolutional filter or graph networks) or atom-centered but which goes beyond the scope of this exercise. "
   ]
  },
  {
   "cell_type": "markdown",
   "id": "6468d74b",
   "metadata": {
    "deletable": false,
    "editable": false,
    "nbgrader": {
     "cell_type": "markdown",
     "checksum": "54a115dfccbd0c1cfa8c1d0a65498967",
     "grade": false,
     "grade_id": "cell-6813759251cd9611",
     "locked": true,
     "schema_version": 3,
     "solution": false,
     "task": false
    }
   },
   "source": [
    "Why do we want to use Neural networks for MD simulations?\n",
    "\n",
    "1. Because Neural networks are always cool.\n",
    "2. Neural networks are fast in prediction and in principle differentiable and could have QM accuracy if trained on QM data.\n",
    "3. Force Fields do not work in MD simulation"
   ]
  },
  {
   "cell_type": "code",
   "execution_count": 48,
   "id": "29c6b706",
   "metadata": {
    "deletable": false,
    "nbgrader": {
     "cell_type": "code",
     "checksum": "9cc25ef088810c820defab2965cc86fb",
     "grade": false,
     "grade_id": "cell-7f0687c72ba0fb72",
     "locked": false,
     "schema_version": 3,
     "solution": true,
     "task": false
    }
   },
   "outputs": [],
   "source": [
    "answer_md = 0 # please pick your answer\n",
    "# YOUR CODE HERE\n",
    "answer_md = 2"
   ]
  },
  {
   "cell_type": "code",
   "execution_count": 49,
   "id": "b0fdb40b",
   "metadata": {
    "deletable": false,
    "editable": false,
    "nbgrader": {
     "cell_type": "code",
     "checksum": "e3e7a1c3a046979786a7613276282f58",
     "grade": true,
     "grade_id": "answer_md",
     "locked": true,
     "points": 1,
     "schema_version": 3,
     "solution": false,
     "task": false
    }
   },
   "outputs": [],
   "source": [
    "# 1 Point\n",
    "assert answer_md != 0"
   ]
  },
  {
   "cell_type": "markdown",
   "id": "e6910632",
   "metadata": {
    "deletable": false,
    "editable": false,
    "nbgrader": {
     "cell_type": "markdown",
     "checksum": "6a5c86a030a4f450daec6d5a22652580",
     "grade": false,
     "grade_id": "cell-ef4a78c9d794f007",
     "locked": true,
     "schema_version": 3,
     "solution": false,
     "task": false
    }
   },
   "source": [
    "We start with loading and inspecting different geometries of methanol that has been sampled via distorting the molecule. A very common format are `.xyz` files. The format of a single xyz-file is:\n",
    "1. 1st Line:              Number of atoms  (int)\n",
    "2. 2nd Line:              comment         (string)\n",
    "3. 3rd Line and following: Element and x- y- z-coordinates (string and float)"
   ]
  },
  {
   "cell_type": "code",
   "execution_count": 50,
   "id": "d984d1f7",
   "metadata": {
    "deletable": false,
    "editable": false,
    "nbgrader": {
     "cell_type": "code",
     "checksum": "72774d2720d30d8016e7b1cd2c18e775",
     "grade": false,
     "grade_id": "cell-8006b2cfebecdb34",
     "locked": true,
     "schema_version": 3,
     "solution": false,
     "task": false
    }
   },
   "outputs": [],
   "source": [
    "import numpy as np\n",
    "import matplotlib.pyplot as plt\n",
    "\n",
    "molecule_name = \"methanol\""
   ]
  },
  {
   "cell_type": "code",
   "execution_count": 51,
   "id": "d6936f08",
   "metadata": {
    "deletable": false,
    "editable": false,
    "nbgrader": {
     "cell_type": "code",
     "checksum": "dbc30318edcf66d78b7f07dffa4d5f2f",
     "grade": false,
     "grade_id": "cell-3ba2a65d3dc3782d",
     "locked": true,
     "schema_version": 3,
     "solution": false,
     "task": false
    }
   },
   "outputs": [],
   "source": [
    "# Read xyz\n",
    "def load_csv(filepath, delimeter=\" \"):\n",
    "    values = []\n",
    "    # open file\n",
    "    infile = open(filepath,\"r\")\n",
    "    lines = infile.readlines()\n",
    "    # read separate entries\n",
    "    for line in lines:\n",
    "        line_list = line.strip().split(delimeter)\n",
    "        line_list = [x.strip() for x in line_list if x != '']\n",
    "        values.append(line_list)\n",
    "    # close file\n",
    "    infile.close()\n",
    "    return values"
   ]
  },
  {
   "cell_type": "code",
   "execution_count": 52,
   "id": "660d8b06",
   "metadata": {
    "deletable": false,
    "editable": false,
    "nbgrader": {
     "cell_type": "code",
     "checksum": "065f159e14d5297a8a874d9c0a98864d",
     "grade": false,
     "grade_id": "cell-ecd04da13e2a0805",
     "locked": true,
     "schema_version": 3,
     "solution": false,
     "task": false
    }
   },
   "outputs": [
    {
     "data": {
      "text/plain": [
       "[['6'],\n",
       " [],\n",
       " ['C', '-0.37100', '0.00770', '-0.00860'],\n",
       " ['O', '0.91670', '-0.50480', '-0.29720'],\n",
       " ['H', '-0.52000', '0.03280', '1.07370'],\n",
       " ['H', '-0.46500', '1.01430', '-0.42340'],\n",
       " ['H', '-1.12230', '-0.64270', '-0.46260'],\n",
       " ['H', '1.56170', '0.09260', '0.11810'],\n",
       " ['6'],\n",
       " [],\n",
       " ['C', '0.00000', '0.00000', '0.00000'],\n",
       " ['O', '1.46290', '0.00000', '0.00000'],\n",
       " ['H', '-0.20120', '0.00000', '-1.06120'],\n",
       " ['H', '-0.39850', '-0.92730', '0.18950'],\n",
       " ['H', '-0.47420', '0.67650', '0.67230']]"
      ]
     },
     "execution_count": 52,
     "metadata": {},
     "output_type": "execute_result"
    }
   ],
   "source": [
    "lines = load_csv(molecule_name+\"_conformers.xyz\")\n",
    "lines[:15]"
   ]
  },
  {
   "cell_type": "markdown",
   "id": "26bd5d72",
   "metadata": {
    "deletable": false,
    "editable": false,
    "nbgrader": {
     "cell_type": "markdown",
     "checksum": "73bfc4c3103a9e614001819ffd5282b7",
     "grade": false,
     "grade_id": "cell-7a5780a6f8aa55b7",
     "locked": true,
     "schema_version": 3,
     "solution": false,
     "task": false
    }
   },
   "source": [
    "Now your task is to split separated lines into a nested list that runs over the molecules and looks like the example below. The coordinates shoud be given as floats and the comment line removed. The number of atoms tells you how many lines to add to the list. Note: your function should also work for arbitrary number of molecules and with different number of atoms in the same xyz-file.\n",
    "```\n",
    "[[['C', -0.371, 0.0077, -0.0086],\n",
    "  ['O', 0.9167, -0.5048, -0.2972],\n",
    "  ['H', -0.52, 0.0328, 1.0737],\n",
    "  ['H', -0.465, 1.0143, -0.4234],\n",
    "  ['H', -1.1223, -0.6427, -0.4626],\n",
    "  ['H', 1.5617, 0.0926, 0.1181]],\n",
    " [['C', 0.0, 0.0, 0.0],\n",
    "  ['O', 1.4629, 0.0, 0.0],\n",
    "  ['H', -0.2012, 0.0, -1.0612],\n",
    "  ['H', -0.3985, -0.9273, 0.1895],\n",
    "  ['H', -0.4742, 0.6765, 0.6723],\n",
    "  ['H', 1.6591, -0.7102, -0.5943]], ...]\n",
    "```"
   ]
  },
  {
   "cell_type": "code",
   "execution_count": 53,
   "id": "56ab749c",
   "metadata": {
    "deletable": false,
    "nbgrader": {
     "cell_type": "code",
     "checksum": "f549ea5dddb71078f54f878b8ded61c7",
     "grade": false,
     "grade_id": "cell-b3bae9d621aae81c",
     "locked": false,
     "schema_version": 3,
     "solution": true,
     "task": false
    }
   },
   "outputs": [],
   "source": [
    "def entry(array):\n",
    "    return [array[0]] + [float(r) for r in array[1:4]]\n",
    "\n",
    "def lines_to_xyz(values):\n",
    "    # Parse mols with flexible size\n",
    "    convert_list = []\n",
    "    elem_idx = 0\n",
    "\n",
    "    while elem_idx < len(values):\n",
    "        \n",
    "        elem = values[elem_idx][0]\n",
    "        if elem.isnumeric():\n",
    "            atoms = int(elem)\n",
    "            \n",
    "            # copy atoms\n",
    "            atom_arrs = values[elem_idx+2:elem_idx+2+atoms]\n",
    "            \n",
    "            # append these values to the list -- can't ever re-read this line\n",
    "            convert_list.append([entry(arr) for arr in atom_arrs])\n",
    "            \n",
    "            # jump to next number definition\n",
    "            elem_idx += 2 + atoms\n",
    "        \n",
    "        else:\n",
    "            break\n",
    "            \n",
    "        pass\n",
    "    \n",
    "    return convert_list"
   ]
  },
  {
   "cell_type": "code",
   "execution_count": 54,
   "id": "ea15d3c5",
   "metadata": {
    "deletable": false,
    "editable": false,
    "nbgrader": {
     "cell_type": "code",
     "checksum": "3e43430946b5a99475a84c56e0e042cb",
     "grade": false,
     "grade_id": "cell-3ff56d53f55277f9",
     "locked": true,
     "schema_version": 3,
     "solution": false,
     "task": false
    }
   },
   "outputs": [],
   "source": [
    "mols = lines_to_xyz(lines)"
   ]
  },
  {
   "cell_type": "code",
   "execution_count": 55,
   "id": "6d0ddeba",
   "metadata": {
    "deletable": false,
    "editable": false,
    "nbgrader": {
     "cell_type": "code",
     "checksum": "fcead66e6707a636dda728fe9ca1fdc3",
     "grade": true,
     "grade_id": "mols",
     "locked": true,
     "points": 2,
     "schema_version": 3,
     "solution": false,
     "task": false
    }
   },
   "outputs": [],
   "source": [
    "# 2 Points\n",
    "assert np.sum(np.abs(np.array(mols[1][2][1:]) - np.array([-0.2012, 0.0, -1.0612]))) < 0.001\n",
    "assert mols[0][1][0] == 'O' and mols[0][3][0] == 'H'"
   ]
  },
  {
   "cell_type": "code",
   "execution_count": 56,
   "id": "974f0b55",
   "metadata": {
    "deletable": false,
    "editable": false,
    "nbgrader": {
     "cell_type": "code",
     "checksum": "a48d594612929dcfd3e4602304eb7cf3",
     "grade": true,
     "grade_id": "lines_to_mols",
     "locked": true,
     "points": 2,
     "schema_version": 3,
     "solution": false,
     "task": false
    }
   },
   "outputs": [],
   "source": [
    "# 2 Points\n",
    "assert lines_to_xyz([['1'],['my Comment'],['C','0.0','0.0','0.0'],\n",
    "              ['2'],['my Comment'],['C','0.0','0.0','0.0'],['O','1.0','1.0','1.0']])[1][1][0] == 'O'\n",
    "assert lines_to_xyz([['1'],['my Comment'],['C','0.0','0.0','0.0'],\n",
    "              ['2'],['my Comment'],['C','0.0','0.0','0.0'],['O','1.0','1.0','1.0']])[1][1][1] - 1.0 < 1e-5"
   ]
  },
  {
   "cell_type": "markdown",
   "id": "c117fdbd",
   "metadata": {
    "deletable": false,
    "editable": false,
    "nbgrader": {
     "cell_type": "markdown",
     "checksum": "a3caf42777cd66f03163bf199255db88",
     "grade": false,
     "grade_id": "cell-797d83f0e110d963",
     "locked": true,
     "schema_version": 3,
     "solution": false,
     "task": false
    }
   },
   "source": [
    "# 1. Learn Energies and Gradients of the molecule\n",
    "\n",
    "## 1.1 Load Data\n",
    "\n",
    "So that you can continue without solving previous exercise, load the numpy arrays below."
   ]
  },
  {
   "cell_type": "code",
   "execution_count": 57,
   "id": "b56ca4fa",
   "metadata": {
    "deletable": false,
    "editable": false,
    "nbgrader": {
     "cell_type": "code",
     "checksum": "e437b4aaa78d506da015313abce52ac6",
     "grade": false,
     "grade_id": "cell-9b6fb98d2845c18d",
     "locked": true,
     "schema_version": 3,
     "solution": false,
     "task": false
    }
   },
   "outputs": [],
   "source": [
    "# Already prepared\n",
    "import numpy as np\n",
    "geos = np.load(molecule_name+\"_coordinates.npy\") # in A\n",
    "energies = np.load(molecule_name+\"_energy.npy\") # in eV\n",
    "grads = np.load(molecule_name+\"_gradients.npy\")*27.21138624598853/0.52917721090380 # from H/B to eV/A"
   ]
  },
  {
   "cell_type": "markdown",
   "id": "fbccd960",
   "metadata": {
    "deletable": false,
    "editable": false,
    "nbgrader": {
     "cell_type": "markdown",
     "checksum": "7b0d6cae9aa958f4c510bb0fea40077e",
     "grade": false,
     "grade_id": "cell-05a2fdfa8205a7f0",
     "locked": true,
     "schema_version": 3,
     "solution": false,
     "task": false
    }
   },
   "source": [
    "## 1.2 Train-Test-Split"
   ]
  },
  {
   "cell_type": "code",
   "execution_count": 58,
   "id": "994c4ac2",
   "metadata": {
    "deletable": false,
    "editable": false,
    "nbgrader": {
     "cell_type": "code",
     "checksum": "7fa3ccdc5c71b94f8e766876dff91aa2",
     "grade": false,
     "grade_id": "cell-53aed0690f064005",
     "locked": true,
     "schema_version": 3,
     "solution": false,
     "task": false
    }
   },
   "outputs": [],
   "source": [
    "from sklearn.model_selection import train_test_split\n",
    "from sklearn.preprocessing import StandardScaler\n",
    "from sklearn.metrics import r2_score\n",
    "import tensorflow as tf"
   ]
  },
  {
   "cell_type": "code",
   "execution_count": 59,
   "id": "0d4811ca",
   "metadata": {
    "deletable": false,
    "editable": false,
    "nbgrader": {
     "cell_type": "code",
     "checksum": "181ac16f826424f3705ef1370804ebac",
     "grade": false,
     "grade_id": "cell-56021fb31b46a8b1",
     "locked": true,
     "schema_version": 3,
     "solution": false,
     "task": false
    }
   },
   "outputs": [
    {
     "name": "stdout",
     "output_type": "stream",
     "text": [
      "(4800, 1)\n",
      "(1201, 6, 3)\n"
     ]
    }
   ],
   "source": [
    "# Scale energy and make test split\n",
    "scaler = StandardScaler(with_std=True, with_mean=True, copy=True)\n",
    "\n",
    "energy_scaled = scaler.fit_transform(energies[:, np.newaxis])\n",
    "grads_scaled = grads / scaler.scale_\n",
    "\n",
    "train_x, test_x, train_g, test_g, train_e, test_e = train_test_split(geos, grads_scaled, energy_scaled, test_size=0.2, shuffle=True, random_state=42)\n",
    "print(train_e.shape)\n",
    "print(test_g.shape)"
   ]
  },
  {
   "cell_type": "markdown",
   "id": "4c419298",
   "metadata": {
    "deletable": false,
    "editable": false,
    "nbgrader": {
     "cell_type": "markdown",
     "checksum": "54df0d922c75a85f145a68ede6908cfb",
     "grade": false,
     "grade_id": "cell-7b0f1a26307c56b2",
     "locked": true,
     "schema_version": 3,
     "solution": false,
     "task": false
    }
   },
   "source": [
    "Now in principle you could already set up a model with TensorFlow-Keras as shown below which simply takes all coordinates as input. You can test it with the data above, but please remove your code again for submission. \n",
    "Please have a look at the tensorflow api documentation: https://www.tensorflow.org/api_docs\n",
    "\n",
    "Here we created a tensorflow model by sequentially setting up the layers of the model. The input tensor is passed from layer to layer within the model. The first dimension is always the batch dimension.\n",
    "A fully connected neural network is given by `tf.keras.layers.Dense`. With the input-layer we define the input shape from which the hidden weights can be built (Note: you have to call the model once for the weights to actually being initalized). Since we want to use the neural network to model a smooth potential, we will not use \"relu\" but \"selu\". We use a regularizer for the kernel-weights."
   ]
  },
  {
   "cell_type": "code",
   "execution_count": 60,
   "id": "d2de1a43",
   "metadata": {
    "deletable": false,
    "editable": false,
    "nbgrader": {
     "cell_type": "code",
     "checksum": "3c9a4074d967db39d7782cee545a2e32",
     "grade": false,
     "grade_id": "cell-979717281307ffd6",
     "locked": true,
     "schema_version": 3,
     "solution": false,
     "task": false
    }
   },
   "outputs": [
    {
     "name": "stdout",
     "output_type": "stream",
     "text": [
      "Model: \"sequential_2\"\n",
      "_________________________________________________________________\n",
      " Layer (type)                Output Shape              Param #   \n",
      "=================================================================\n",
      " flatten_1 (Flatten)         (None, 18)                0         \n",
      "                                                                 \n",
      " dense_9 (Dense)             (None, 300)               5700      \n",
      "                                                                 \n",
      " dense_10 (Dense)            (None, 300)               90300     \n",
      "                                                                 \n",
      " dense_11 (Dense)            (None, 1)                 301       \n",
      "                                                                 \n",
      "=================================================================\n",
      "Total params: 96,301\n",
      "Trainable params: 96,301\n",
      "Non-trainable params: 0\n",
      "_________________________________________________________________\n"
     ]
    }
   ],
   "source": [
    "model = tf.keras.Sequential()\n",
    "model.add(tf.keras.Input(shape=(6,3)))\n",
    "model.add(tf.keras.layers.Flatten())\n",
    "model.add(tf.keras.layers.Dense(300,use_bias=True, activation=\"selu\", kernel_regularizer=tf.keras.regularizers.L1(1e-5)))\n",
    "model.add(tf.keras.layers.Dense(300,use_bias=True, activation=\"selu\", kernel_regularizer=tf.keras.regularizers.L1(1e-5)))\n",
    "model.add(tf.keras.layers.Dense(1,use_bias=True,activation=\"linear\"))\n",
    "model.summary()"
   ]
  },
  {
   "cell_type": "markdown",
   "id": "cc9fc6e7",
   "metadata": {
    "deletable": false,
    "editable": false,
    "nbgrader": {
     "cell_type": "markdown",
     "checksum": "2c81de6d3bb9b9a2eccde429cc804bf8",
     "grade": false,
     "grade_id": "cell-401392acfbeecee6",
     "locked": true,
     "schema_version": 3,
     "solution": false,
     "task": false
    }
   },
   "source": [
    "What could be the problem in this approach? Choose one of the anserwers:\n",
    "\n",
    "1. The model does not have trainable weights.\n",
    "2. The model can not deal with input tensor of rank > 1.\n",
    "3. The model has input features that are not rotation and translation invariant but the model output is."
   ]
  },
  {
   "cell_type": "code",
   "execution_count": 61,
   "id": "e1ade87d",
   "metadata": {
    "deletable": false,
    "nbgrader": {
     "cell_type": "code",
     "checksum": "66c257a1fcaa94bdc0e5ed5fb72eeb73",
     "grade": false,
     "grade_id": "cell-bc0f5b79f68999c2",
     "locked": false,
     "schema_version": 3,
     "solution": true,
     "task": false
    }
   },
   "outputs": [],
   "source": [
    "answer_model_1 = 0 # please pick an answer as int\n",
    "# YOUR CODE HERE\n",
    "answer_model_1 = 3"
   ]
  },
  {
   "cell_type": "code",
   "execution_count": 62,
   "id": "8548e844",
   "metadata": {
    "deletable": false,
    "editable": false,
    "nbgrader": {
     "cell_type": "code",
     "checksum": "e1a7089ca04294841bc9cf2352c1957c",
     "grade": true,
     "grade_id": "answer_model1",
     "locked": true,
     "points": 1,
     "schema_version": 3,
     "solution": false,
     "task": false
    }
   },
   "outputs": [],
   "source": [
    "# 1 Point\n",
    "assert answer_model_1 != 0"
   ]
  },
  {
   "cell_type": "markdown",
   "id": "711ca331",
   "metadata": {
    "deletable": false,
    "editable": false,
    "nbgrader": {
     "cell_type": "markdown",
     "checksum": "53ab2481133690463935fc9426826fc0",
     "grade": false,
     "grade_id": "cell-81499ff97d08ef8a",
     "locked": true,
     "schema_version": 3,
     "solution": false,
     "task": false
    }
   },
   "source": [
    "## 1.3 Features\n",
    "\n",
    "With deep-learning APIs like TensorFlow, gradients and jacobians can be computed analytically. We make use of this to compute gradients or forces based on the Neural Network potential. This is further helpful since the gradients a vector properties and will depend on the orientation (not translation) of the molecule. However, to this end, we have to compute the feature descriptors within the model. \n",
    "\n",
    "We will do this within a layer named `InverseDistances`. The subclassed layer backbone is shown below. The backward pass is completely taken care of by tensorflow, as long as you use tensorflow functions that have a gradient defined: https://www.tensorflow.org/guide/autodiff"
   ]
  },
  {
   "cell_type": "code",
   "execution_count": 63,
   "id": "3249689d",
   "metadata": {
    "deletable": false,
    "nbgrader": {
     "cell_type": "code",
     "checksum": "f2ddd2987f9685b018168eeee6f496e5",
     "grade": false,
     "grade_id": "cell-57c77ea9299dea37",
     "locked": false,
     "schema_version": 3,
     "solution": true,
     "task": false
    }
   },
   "outputs": [],
   "source": [
    "class InverseDistances(tf.keras.layers.Layer):\n",
    "    \n",
    "    def __init__(self, pair_indices = None, **kwargs):\n",
    "        super(InverseDistances, self).__init__(**kwargs)\n",
    "        \n",
    "        self.pair_indices = pair_indices\n",
    "\n",
    "    def build(self, input_shape):\n",
    "        \n",
    "        if self.pair_indices is None:\n",
    "            self.pair_indices = np.array([[i,j] for i in range(input_shape[1]) for j in range(i)], dtype=np.int64)\n",
    "        else:\n",
    "            self.pair_indices = np.array(self.pair_indices, dtype=np.int64)\n",
    "            \n",
    "        self.tf_pair_indices = self.add_weight('pair_indices',\n",
    "                                               shape=self.pair_indices.shape,\n",
    "                                               initializer=tf.keras.initializers.Zeros(),\n",
    "                                               dtype='int64',\n",
    "                                               trainable=False)\n",
    "\n",
    "        super(InverseDistances, self).build(input_shape)\n",
    "        \n",
    "        self.set_weights([self.pair_indices])\n",
    "        \n",
    "    def call(self, inputs, **kwargs):\n",
    "        \n",
    "        # Translate the numpy version of the forward layer pass to tensorflow functions\n",
    "        # Find the appropriate tensorflow functions. Everything must be vectorized.\n",
    "        # YOUR CODE HERE\n",
    "        cordbatch = inputs\n",
    "        indexbatch = self.pair_indices\n",
    "        \n",
    "        v1 = tf.gather(cordbatch, indexbatch[:, 0], axis=1)\n",
    "        v2 = tf.gather(cordbatch, indexbatch[:, 1], axis=1)\n",
    "        vec = v2 - v1\n",
    "        norm_vec = tf.sqrt(tf.reduce_sum(vec * vec, axis=-1))\n",
    "        invd_out = 1/norm_vec\n",
    "        return invd_out\n",
    "    \n",
    "    def _call_numpy_version_not_use(self, inputs):\n",
    "        # The same as call with numpy\n",
    "        cordbatch = inputs\n",
    "        indexbatch = self.pair_indices # You may have to add a dimension to indices for tf\n",
    "        v1 = np.take(cordbatch,indexbatch[:,0],axis=1) # You have to find a solution with tf.gather here\n",
    "        v2 = np.take(cordbatch,indexbatch[:,1],axis=1) # For tf check out the batch_dims and axis parameter for tf.gather\n",
    "        vec = v2-v1\n",
    "        norm_vec = np.sqrt(np.sum(vec*vec,axis=-1))\n",
    "        invd_out = 1/norm_vec\n",
    "        return invd_out"
   ]
  },
  {
   "cell_type": "code",
   "execution_count": 64,
   "id": "0fc48009",
   "metadata": {
    "deletable": false,
    "editable": false,
    "nbgrader": {
     "cell_type": "code",
     "checksum": "816738e6ee7b479763c700e06370ccb7",
     "grade": false,
     "grade_id": "cell-b2c04b7c5886528b",
     "locked": true,
     "schema_version": 3,
     "solution": false,
     "task": false
    }
   },
   "outputs": [
    {
     "data": {
      "text/plain": [
       "(10, 15)"
      ]
     },
     "execution_count": 64,
     "metadata": {},
     "output_type": "execute_result"
    }
   ],
   "source": [
    "# Test layer\n",
    "test_layer = InverseDistances(dtype='float64')\n",
    "test_layer.build(geos[:10,:,:].shape)\n",
    "result_test_layer = test_layer(geos[:10,:,:]).numpy()\n",
    "result_test_numpy = test_layer._call_numpy_version_not_use(geos[:10,:,:])\n",
    "result_test_numpy.shape"
   ]
  },
  {
   "cell_type": "code",
   "execution_count": 65,
   "id": "cc28a5ca",
   "metadata": {
    "deletable": false,
    "editable": false,
    "nbgrader": {
     "cell_type": "code",
     "checksum": "1a6256250d419b603ff38ebfa89e46d0",
     "grade": true,
     "grade_id": "InvdLayer",
     "locked": true,
     "points": 3,
     "schema_version": 3,
     "solution": false,
     "task": false
    }
   },
   "outputs": [],
   "source": [
    "# 3 Points\n",
    "assert np.sum(np.abs(result_test_layer-result_test_numpy))< 1e-6"
   ]
  },
  {
   "cell_type": "markdown",
   "id": "cae5f22b",
   "metadata": {
    "deletable": false,
    "editable": false,
    "nbgrader": {
     "cell_type": "markdown",
     "checksum": "a8a4567bad14bb483121218af9c174ec",
     "grade": false,
     "grade_id": "cell-82b7009071f39d26",
     "locked": true,
     "schema_version": 3,
     "solution": false,
     "task": false
    }
   },
   "source": [
    "In principle we can make now a model like shown below. However, it turns out that training with the prediction of the gradients leads to overall better results. Note the non-trainable weights for the indices that come from our custom layer."
   ]
  },
  {
   "cell_type": "code",
   "execution_count": 66,
   "id": "53403b07",
   "metadata": {
    "deletable": false,
    "editable": false,
    "nbgrader": {
     "cell_type": "code",
     "checksum": "0cba6fdf889294507ec576c060b401e8",
     "grade": false,
     "grade_id": "cell-d1fde6ded70d4db4",
     "locked": true,
     "schema_version": 3,
     "solution": false,
     "task": false
    }
   },
   "outputs": [
    {
     "name": "stdout",
     "output_type": "stream",
     "text": [
      "Model: \"sequential_3\"\n",
      "_________________________________________________________________\n",
      " Layer (type)                Output Shape              Param #   \n",
      "=================================================================\n",
      " InverseDistance (InverseDis  (None, 15)               30        \n",
      " tances)                                                         \n",
      "                                                                 \n",
      " dense_12 (Dense)            (None, 300)               4800      \n",
      "                                                                 \n",
      " dense_13 (Dense)            (None, 300)               90300     \n",
      "                                                                 \n",
      " dense_14 (Dense)            (None, 1)                 301       \n",
      "                                                                 \n",
      "=================================================================\n",
      "Total params: 95,431\n",
      "Trainable params: 95,401\n",
      "Non-trainable params: 30\n",
      "_________________________________________________________________\n"
     ]
    }
   ],
   "source": [
    "model = tf.keras.Sequential()\n",
    "model.add(tf.keras.Input(shape=(6,3)))\n",
    "model.add(InverseDistances(name=\"InverseDistance\"))\n",
    "model.add(tf.keras.layers.Dense(300,use_bias=True, activation=\"selu\", kernel_regularizer=tf.keras.regularizers.L1(1e-5)))\n",
    "model.add(tf.keras.layers.Dense(300,use_bias=True, activation=\"selu\", kernel_regularizer=tf.keras.regularizers.L1(1e-5)))\n",
    "model.add(tf.keras.layers.Dense(1,use_bias=True,activation=\"linear\"))\n",
    "model.summary()"
   ]
  },
  {
   "cell_type": "markdown",
   "id": "239d05c6",
   "metadata": {
    "deletable": false,
    "editable": false,
    "nbgrader": {
     "cell_type": "markdown",
     "checksum": "3257ba87b314b63e576da43e9f4d0c6e",
     "grade": false,
     "grade_id": "cell-b2de23628856872a",
     "locked": true,
     "schema_version": 3,
     "solution": false,
     "task": false
    }
   },
   "source": [
    "Why could it be more advantageous to train with energy AND forces as model output?\n",
    "\n",
    "1. The forces are not connected to the energies and therefore needs to be in the training set.\n",
    "2. Adding the forces makes training much faster\n",
    "3. The gradients determine the slope of the potential energy surface and act as an additional form of regularization."
   ]
  },
  {
   "cell_type": "code",
   "execution_count": 67,
   "id": "1d36edfb",
   "metadata": {
    "deletable": false,
    "nbgrader": {
     "cell_type": "code",
     "checksum": "d28cd5cec21ce3191e9104cc53c1dfbb",
     "grade": false,
     "grade_id": "cell-466a78c6a80ba606",
     "locked": false,
     "schema_version": 3,
     "solution": true,
     "task": false
    }
   },
   "outputs": [],
   "source": [
    "answer_gradient = 0 # select the number of the correct answer\n",
    "# YOUR CODE HERE\n",
    "answer_gradient = 3"
   ]
  },
  {
   "cell_type": "code",
   "execution_count": 68,
   "id": "31c452b9",
   "metadata": {
    "deletable": false,
    "editable": false,
    "nbgrader": {
     "cell_type": "code",
     "checksum": "ff0418f472f69cb979c8aa92fb5e055f",
     "grade": true,
     "grade_id": "AnswerGradient",
     "locked": true,
     "points": 1,
     "schema_version": 3,
     "solution": false,
     "task": false
    }
   },
   "outputs": [],
   "source": [
    "# 1 Point\n",
    "assert answer_gradient != 0"
   ]
  },
  {
   "cell_type": "markdown",
   "id": "a63680ae",
   "metadata": {
    "deletable": false,
    "editable": false,
    "nbgrader": {
     "cell_type": "markdown",
     "checksum": "661f55d3938fe29556d6a3d91b2f4dc3",
     "grade": false,
     "grade_id": "cell-3b4838bdf72aa821",
     "locked": true,
     "schema_version": 3,
     "solution": false,
     "task": false
    }
   },
   "source": [
    "## 1.4 Energy + Gradients\n",
    "\n",
    "We can improve the gradient prediction if we train on energies and gradients simultaneously. To do this the analytical gradient prediction has to be integrated into the model. A subclassing of a tf.keras.model allows for implementing a more general model definition than the simply sequential model constructor."
   ]
  },
  {
   "cell_type": "code",
   "execution_count": 69,
   "id": "294ef3d4",
   "metadata": {
    "deletable": false,
    "editable": false,
    "nbgrader": {
     "cell_type": "code",
     "checksum": "cca7adfa713786f6316afde2290bd76f",
     "grade": false,
     "grade_id": "cell-65ed8361ad324608",
     "locked": true,
     "schema_version": 3,
     "solution": false,
     "task": false
    }
   },
   "outputs": [],
   "source": [
    "class EnergyGradientModel(tf.keras.Model):\n",
    "\n",
    "    def __init__(self, **kwargs):\n",
    "\n",
    "        super(EnergyGradientModel, self).__init__(**kwargs)\n",
    "\n",
    "        self.feat_layer = InverseDistances()\n",
    "        \n",
    "        self.dense_layers = [ tf.keras.layers.Dense(300,use_bias=True, activation=\"selu\", kernel_regularizer=tf.keras.regularizers.L1(1e-5)),\n",
    "                          tf.keras.layers.Dense(300,use_bias=True, activation=\"selu\", kernel_regularizer=tf.keras.regularizers.L1(1e-5))\n",
    "                          ]\n",
    "\n",
    "        self.energy_layer = tf.keras.layers.Dense(1,use_bias=True,activation=\"linear\")\n",
    "        \n",
    "    def call(self, inputs, training=False, **kwargs):\n",
    "        \n",
    "        x = inputs\n",
    "        with tf.GradientTape() as tape:\n",
    "            tape.watch(x)\n",
    "            hidden = self.feat_layer(x)\n",
    "            for d in self.dense_layers:\n",
    "                hidden = d(hidden, training=training)\n",
    "            temp_e = self.energy_layer(hidden)\n",
    "        temp_g = tape.batch_jacobian(temp_e,x)\n",
    "        temp_g = temp_g[:,0,:,:]\n",
    "        return [temp_e, temp_g]"
   ]
  },
  {
   "cell_type": "code",
   "execution_count": 70,
   "id": "d7392fdf",
   "metadata": {
    "deletable": false,
    "editable": false,
    "nbgrader": {
     "cell_type": "code",
     "checksum": "b75d0ea013acf5ff5964526a95ff15c7",
     "grade": false,
     "grade_id": "cell-7a3736c472c0b313",
     "locked": true,
     "schema_version": 3,
     "solution": false,
     "task": false
    }
   },
   "outputs": [],
   "source": [
    "model = EnergyGradientModel()\n",
    "model.build(train_x.shape)"
   ]
  },
  {
   "cell_type": "code",
   "execution_count": 71,
   "id": "ba83f450",
   "metadata": {
    "deletable": false,
    "editable": false,
    "nbgrader": {
     "cell_type": "code",
     "checksum": "ff29a53fc15d671382858e51d94f1cc7",
     "grade": false,
     "grade_id": "cell-8e30277ee4c7d6ce",
     "locked": true,
     "schema_version": 3,
     "solution": false,
     "task": false
    }
   },
   "outputs": [],
   "source": [
    "# Compile and Training of the model\n",
    "def compile_train_model(model,x,y,\n",
    "                        validation_data=None,\n",
    "                        epochs=1000,\n",
    "                        lr=0.5e-3,\n",
    "                        validation_freq=10,\n",
    "                        batch_size=128,\n",
    "                        verbose=2,\n",
    "                        loss='mean_squared_error',\n",
    "                        metrics=['mean_absolute_error'],\n",
    "                        loss_weights=None):\n",
    "\n",
    "    # Compile model with optimizer and learning rate\n",
    "    optimizer = tf.keras.optimizers.Adam(lr=lr)\n",
    "    model.compile(loss=loss,\n",
    "                  optimizer=optimizer,\n",
    "                  metrics=metrics,\n",
    "                  loss_weights=loss_weights)\n",
    "\n",
    "    hist = model.fit(x,y,epochs=epochs,\n",
    "                     batch_size=batch_size,\n",
    "                     validation_freq=validation_freq,\n",
    "                     validation_data=validation_data,\n",
    "                     verbose=2)\n",
    "    \n",
    "    return hist"
   ]
  },
  {
   "cell_type": "markdown",
   "id": "d2edb2c1",
   "metadata": {
    "deletable": false,
    "editable": false,
    "nbgrader": {
     "cell_type": "markdown",
     "checksum": "8e111ba359f84c9c9c99d67c48e9b67d",
     "grade": false,
     "grade_id": "cell-56d4b69d0acd7033",
     "locked": true,
     "schema_version": 3,
     "solution": false,
     "task": false
    }
   },
   "source": [
    "Please submit your solution with `do_training = False`."
   ]
  },
  {
   "cell_type": "code",
   "execution_count": 72,
   "id": "d89dd887",
   "metadata": {
    "deletable": false,
    "nbgrader": {
     "cell_type": "code",
     "checksum": "202934bf223a9e8dd010348e19b64f09",
     "grade": false,
     "grade_id": "cell-b2c405666668c448",
     "locked": false,
     "schema_version": 3,
     "solution": true,
     "task": false
    }
   },
   "outputs": [],
   "source": [
    "do_training = False\n",
    "# YOUR CODE HERE\n",
    "#do_training = True"
   ]
  },
  {
   "cell_type": "code",
   "execution_count": 73,
   "id": "bd687351",
   "metadata": {
    "deletable": false,
    "editable": false,
    "nbgrader": {
     "cell_type": "code",
     "checksum": "675bbb6b2d85657ab289df0ada681a1c",
     "grade": false,
     "grade_id": "cell-a9d1b990afc1c862",
     "locked": true,
     "schema_version": 3,
     "solution": false,
     "task": false
    }
   },
   "outputs": [],
   "source": [
    "if do_training:\n",
    "    hist = compile_train_model(model,train_x,\n",
    "                               [train_e, train_g],\n",
    "                               validation_data=(test_x,[test_e, test_g]),\n",
    "                               loss=[\"mean_squared_error\",\"mean_squared_error\"],\n",
    "                               metrics=[['mean_absolute_error'],['mean_absolute_error']],\n",
    "                               loss_weights=[1,5]\n",
    "                              )"
   ]
  },
  {
   "cell_type": "code",
   "execution_count": 74,
   "id": "1395bb07",
   "metadata": {
    "deletable": false,
    "editable": false,
    "nbgrader": {
     "cell_type": "code",
     "checksum": "97474ab285020b5964d5eb7ea631a2af",
     "grade": false,
     "grade_id": "cell-5ee4ab25bb492ce8",
     "locked": true,
     "schema_version": 3,
     "solution": false,
     "task": false
    }
   },
   "outputs": [],
   "source": [
    "# Some plotting functions.\n",
    "def plot_history(hist, validation_freq=10,scale=1):    \n",
    "    plt.figure()\n",
    "    for key, loss in hist.history.items():\n",
    "        np_loss=np.array(loss)\n",
    "        if \"val\" in key:\n",
    "            plt.plot(np.arange(np_loss.shape[0])*validation_freq+validation_freq,np_loss, label=key)\n",
    "        else:\n",
    "            plt.plot(np.arange(np_loss.shape[0]), np_loss, label=key)\n",
    "        \n",
    "    plt.xlabel('Epochs')\n",
    "    plt.ylabel('Loss ')\n",
    "    plt.title('Loss vs. epochse')\n",
    "    plt.legend(loc='upper right', fontsize='x-small')\n",
    "    plt.show()\n",
    "\n",
    "def plot_prediction(pred,true):\n",
    "    mae_valid = np.mean(np.abs(pred - true))\n",
    "    r2_data = r2_score(true, pred)\n",
    "    print(\"MAE\", mae_valid)\n",
    "    print(\"r2_score\", r2_data)\n",
    "    plt.figure()\n",
    "    plt.scatter(pred.flatten(), true.flatten(), alpha=0.3, label=\"MAE: {0:0.4f} \\nr2 {1:0.4f}\".format(mae_valid, r2_data))\n",
    "    plt.plot(np.linspace(np.amin(true), np.amax(true), 100),\n",
    "             np.linspace(np.amin(true), np.amax(true), 100), color='red')\n",
    "    plt.xlabel('Predicted')\n",
    "    plt.ylabel('Actual')\n",
    "    plt.legend(loc='upper left', fontsize='x-large')\n",
    "    plt.show()"
   ]
  },
  {
   "cell_type": "code",
   "execution_count": 75,
   "id": "49dfb79e",
   "metadata": {
    "deletable": false,
    "editable": false,
    "nbgrader": {
     "cell_type": "code",
     "checksum": "a34d205de2c1b301472f2dd1307a2c2a",
     "grade": false,
     "grade_id": "cell-d5b81c10c86aca95",
     "locked": true,
     "schema_version": 3,
     "solution": false,
     "task": false
    }
   },
   "outputs": [],
   "source": [
    "if do_training:\n",
    "    pred_test = scaler.inverse_transform(model.predict(test_x)[0])\n",
    "    true_test = scaler.inverse_transform(test_e)\n",
    "    pred_test_grad = model.predict(test_x)[1]*scaler.scale_\n",
    "    true_test_grad = test_g*scaler.scale_\n",
    "\n",
    "    plot_history(hist, validation_freq=10, scale=scaler.scale_)\n",
    "    plot_prediction(pred_test,true_test)\n",
    "    plot_prediction(np.reshape(pred_test_grad,(-1,18)),np.reshape(true_test_grad,(-1,18)))"
   ]
  },
  {
   "cell_type": "markdown",
   "id": "606d0355",
   "metadata": {
    "deletable": false,
    "editable": false,
    "nbgrader": {
     "cell_type": "markdown",
     "checksum": "2f33645e34e5e82de997af985c5875a1",
     "grade": false,
     "grade_id": "cell-0fb553795202bd54",
     "locked": true,
     "schema_version": 3,
     "solution": false,
     "task": false
    }
   },
   "source": [
    "Please report on your achieved validation r2_score. You can change the hyperparemeters and play with the model definition. Eg. add a few layers or add a BatchNormalization layer after the Feature layer etc."
   ]
  },
  {
   "cell_type": "code",
   "execution_count": 76,
   "id": "3ec7af75",
   "metadata": {
    "deletable": false,
    "nbgrader": {
     "cell_type": "code",
     "checksum": "ea010c17774a493270cd8e6bd83ee97f",
     "grade": false,
     "grade_id": "cell-5c325c0d8d66f37d",
     "locked": false,
     "schema_version": 3,
     "solution": true,
     "task": false
    }
   },
   "outputs": [],
   "source": [
    "r2_score_energy = 0\n",
    "r2_score_gradient = 0\n",
    "# YOUR CODE HERE\n",
    "r2_score_energy = 0.9732\n",
    "r2_score_gradient = 0.9950"
   ]
  },
  {
   "cell_type": "code",
   "execution_count": 77,
   "id": "f925a5b2",
   "metadata": {
    "deletable": false,
    "editable": false,
    "nbgrader": {
     "cell_type": "code",
     "checksum": "dcb9020869dc1686e5bdc80c53c468e9",
     "grade": true,
     "grade_id": "Testr2score",
     "locked": true,
     "points": 3,
     "schema_version": 3,
     "solution": false,
     "task": false
    }
   },
   "outputs": [],
   "source": [
    "# 3 Points\n",
    "assert r2_score_energy > 0.90\n",
    "assert r2_score_gradient > 0.90"
   ]
  },
  {
   "cell_type": "markdown",
   "id": "7369a317",
   "metadata": {
    "deletable": false,
    "editable": false,
    "nbgrader": {
     "cell_type": "markdown",
     "checksum": "f560734404946ab40f8679b7dcd60018",
     "grade": false,
     "grade_id": "cell-f4b3530355c6f6c1",
     "locked": true,
     "schema_version": 3,
     "solution": false,
     "task": false
    }
   },
   "source": [
    "# MD Simulation\n",
    "\n",
    "For time integration the so-called [\"Verlet\"](https://en.wikipedia.org/wiki/Verlet_integration) integration is used to integrate Newton's equations of motion.\n",
    "\n",
    "The standard scheme of this algorithm is:\n",
    "\n",
    "* Calculate ${\\displaystyle {\\vec {v}}\\left(t+{\\tfrac {1}{2}}\\,\\Delta t\\right)={\\vec {v}}(t)+{\\tfrac {1}{2}}\\,{\\vec {a}}(t)\\,\\Delta t}$.\n",
    "\n",
    "* Calculate ${\\displaystyle {\\vec {x}}(t+\\Delta t)={\\vec {x}}(t)+{\\vec {v}}\\left(t+{\\tfrac {1}{2}}\\,\\Delta t\\right)\\,\\Delta t}$.\n",
    "\n",
    "* Derive ${\\displaystyle {\\vec {a}}(t+\\Delta t)}$ from the interaction potential using ${\\displaystyle {\\vec {x}}(t+\\Delta t)}$.\n",
    "\n",
    "* Calculate ${\\displaystyle {\\vec {v}}(t+\\Delta t)={\\vec {v}}\\left(t+{\\tfrac {1}{2}}\\,\\Delta t\\right)+{\\tfrac {1}{2}}\\,{\\vec {a}}(t+\\Delta t)\\Delta t}$."
   ]
  },
  {
   "cell_type": "markdown",
   "id": "f0d7cdd9",
   "metadata": {
    "deletable": false,
    "editable": false,
    "nbgrader": {
     "cell_type": "markdown",
     "checksum": "418d7307c304830af0c2d6e7a7bf042f",
     "grade": false,
     "grade_id": "cell-af1a99701d4faf10",
     "locked": true,
     "schema_version": 3,
     "solution": false,
     "task": false
    }
   },
   "source": [
    "Here is an implementation in python with different time-integration."
   ]
  },
  {
   "cell_type": "code",
   "execution_count": 78,
   "id": "ae124783",
   "metadata": {
    "deletable": false,
    "editable": false,
    "nbgrader": {
     "cell_type": "code",
     "checksum": "136455e64a4e7ade6c021f30b552fb9d",
     "grade": false,
     "grade_id": "cell-23bbfb8ec6be0884",
     "locked": true,
     "schema_version": 3,
     "solution": false,
     "task": false
    }
   },
   "outputs": [],
   "source": [
    "class PotentialNN:\n",
    "    \n",
    "    unit_Bohr_A = 0.52917721090380\n",
    "    unit_Hatree_eV = 27.21138624598853\n",
    "    \n",
    "    def __init__(self, model, scaler):\n",
    "        self.model = model\n",
    "        self.scaler = scaler\n",
    "    \n",
    "    def __call__(self,x):\n",
    "        # x in Bohr to eV\n",
    "        x_A = x*self.unit_Bohr_A\n",
    "        # call model\n",
    "        eng, grad = self.model.predict(x_A)\n",
    "        # inverse scaling\n",
    "        eng = self.scaler.inverse_transform(eng)\n",
    "        grad = grad*self.scaler.scale_\n",
    "        # unit conversion to Hatree and Hatree/Bohr\n",
    "        eng_B = eng/self.unit_Hatree_eV\n",
    "        grad_BH = grad/self.unit_Hatree_eV*self.unit_Bohr_A\n",
    "        return eng_B, grad_BH"
   ]
  },
  {
   "cell_type": "code",
   "execution_count": 79,
   "id": "aaa6bb0f",
   "metadata": {
    "deletable": false,
    "editable": false,
    "nbgrader": {
     "cell_type": "code",
     "checksum": "416981b754d2fea830f5bb34a6c66c8c",
     "grade": false,
     "grade_id": "cell-2433aeb14307795a",
     "locked": true,
     "schema_version": 3,
     "solution": false,
     "task": false
    }
   },
   "outputs": [],
   "source": [
    "class BatchEnsemble:\n",
    "    \n",
    "    unit_Bohr_A = 0.52917721090380\n",
    "    unit_Bohr_m = 5.2917721090380e-11\n",
    "    unit_me_kg = 9.109383701528e-31\n",
    "    unit_Hatree_eV = 27.21138624598853\n",
    "    unit_Hatree_J = 4.359744722207185e-18\n",
    "    unit_atu_s = 2.418884326585747e-17\n",
    "    unit_1u_me = 1.6605390666050e-27/9.109383701528e-31\n",
    "    \n",
    "    const_kB = 8.617333262e-5/27.21138624598853\n",
    "    sign_force = -1.0\n",
    "    \n",
    "    def __init__(self, coord, mass, potential, velo = None):\n",
    "        \"\"\"Initial settings. All properties are in atomic units.\n",
    "        \n",
    "        Args:\n",
    "            coord (np.array): Initial poisition of shape (batch, N, 3) in [Bohr]\n",
    "            mass (np.array): Mass of particles (bath, N, 1) in [me]\n",
    "            potential (callable): Potential model inputs coord and returns energies and gradients\n",
    "                                  of shape (batch, 1) and (batch, N, 3) in [Hatree] and [Hatree/Bohr]\n",
    "            velo (np.array): Initial velocities of shape (batch, N, 3)\n",
    "        \"\"\"\n",
    "        \n",
    "        # System properties\n",
    "        self.mass = mass\n",
    "        self.potential = potential\n",
    "        self.number_particles = self.mass.shape[1]\n",
    "        \n",
    "        # Trajectory properties\n",
    "        self.traj_x = [] # position in Bohr\n",
    "        self.traj_v = [] # velicity in Bohr/atu\n",
    "        self.traj_a = [] # acceleraton in Bohr/atu^2\n",
    "        self.traj_t = [] # time in atu\n",
    "        self.traj_p = [] # momentum in Bohr*me/atu\n",
    "        self.traj_F = [] # force in Hatree/Bohr\n",
    "        self.traj_E = [] # potential energy in Hatree\n",
    "        self.traj_E_kin = [] # kinetic energy in Hatree\n",
    "        self.traj_T = [] # Temperature in K\n",
    "        \n",
    "        #######################################################################\n",
    "        \n",
    "        # Set initial values i.e. traj[0]\n",
    "        initial_x = coord\n",
    "        if velo is None:\n",
    "            initial_v = np.zeros_like(coord)\n",
    "        else:\n",
    "            initial_v = velo\n",
    "        initial_p = initial_v*self.mass\n",
    "        initial_eng, initial_grad = self.potential(initial_x)\n",
    "        initial_force = self.sign_force*initial_grad\n",
    "        initial_eng_kin = np.sum(np.sum(0.5*self.mass*initial_v*initial_v,axis=-1),axis=-1,keepdims=True)\n",
    "        initial_temp = 2/3*initial_eng_kin/self.number_particles/self.const_kB\n",
    "        initial_a = initial_force/self.mass\n",
    "        \n",
    "        # Append 0 time step\n",
    "        self.traj_x.append(initial_x)\n",
    "        self.traj_v.append(initial_v)\n",
    "        self.traj_E.append(initial_eng)\n",
    "        self.traj_F.append(initial_force)\n",
    "        self.traj_a.append(initial_a)\n",
    "        self.traj_t.append(0.0)\n",
    "        self.traj_E_kin.append(initial_eng_kin)\n",
    "        self.traj_T.append(initial_temp)\n",
    "        self.traj_p.append(initial_p)\n",
    "    \n",
    "    def initialize_velocity(self, T):\n",
    "        \"\"\"Overwrite initial velcovity by Boltzmann distribution.\n",
    "        \n",
    "        Args:\n",
    "            T (float): Temperature in K\n",
    "        \"\"\"\n",
    "        initial_velo = np.random.standard_normal(self.traj_x[0].shape)\n",
    "        initial_velo = initial_velo*np.sqrt(self.const_kB*T/self.mass)\n",
    "        initial_eng_kin = np.sum(np.sum(0.5*self.mass*initial_velo*initial_velo,axis=-1),axis=-1,keepdims=True)\n",
    "        initial_p = initial_velo*self.mass\n",
    "        initial_T = 2/3*initial_eng_kin/self.number_particles/self.const_kB\n",
    "        \n",
    "        self.traj_v[0] = initial_velo\n",
    "        self.traj_E_kin[0] = initial_eng_kin\n",
    "        self.traj_T[0] = initial_T\n",
    "        self.traj_p[0] = initial_p"
   ]
  },
  {
   "cell_type": "code",
   "execution_count": 80,
   "id": "66b5b2c0",
   "metadata": {
    "deletable": false,
    "editable": false,
    "nbgrader": {
     "cell_type": "code",
     "checksum": "0899a6c900bef75442e33723c1b6a8b5",
     "grade": false,
     "grade_id": "cell-1ec73a59e57eb4c5",
     "locked": true,
     "schema_version": 3,
     "solution": false,
     "task": false
    }
   },
   "outputs": [],
   "source": [
    "class TimeIntegration:\n",
    "     \n",
    "    unit_atu_s = 2.418884326585747e-17\n",
    "    const_kB = 8.617333262e-5/27.21138624598853\n",
    "    \n",
    "    def __init__(self,ensemble):\n",
    "        self.ensemble = ensemble\n",
    "    \n",
    "    def propagate_timestep(self):\n",
    "        pass\n",
    "\n",
    "    def propagate(self, time_length, step_size):\n",
    "        \"\"\"Propagate ensemble.\n",
    "        \n",
    "        Args:\n",
    "            time_length: Time of the simulation in [fs]\n",
    "            step_size: Time step in [fs]        \n",
    "        \"\"\"\n",
    "        #Repeat time step\n",
    "        num_steps = int(time_length/step_size)\n",
    "        \n",
    "        # Map to atu\n",
    "        time_length = time_length*1e-15/self.unit_atu_s\n",
    "        step_size = step_size*1e-15/self.unit_atu_s\n",
    "        print(\"Run MD for:\", time_length, \"a.t.u with steps:\" ,step_size, \"a.t.u\")\n",
    "        \n",
    "          \n",
    "        propagation_function = self.propagate_timestep\n",
    "        \n",
    "        # Run MD\n",
    "        for i in range(num_steps):\n",
    "            propagation_function(step_size)  \n",
    "            if i%500==0:\n",
    "                print(\"Steps done:\",i)"
   ]
  },
  {
   "cell_type": "code",
   "execution_count": 81,
   "id": "4a11a3a0",
   "metadata": {
    "deletable": false,
    "editable": false,
    "nbgrader": {
     "cell_type": "code",
     "checksum": "e2f6f0331e68e3f75339921b36184b3a",
     "grade": false,
     "grade_id": "cell-b68398cee4e468d6",
     "locked": true,
     "schema_version": 3,
     "solution": false,
     "task": false
    }
   },
   "outputs": [],
   "source": [
    "class VerletIntegration(TimeIntegration):\n",
    "\n",
    "    def propagate_timestep(self, delta_t):\n",
    "        # time in atu\n",
    "        \n",
    "        t = self.ensemble.traj_t[-1] \n",
    "        x_t = self.ensemble.traj_x[-1]\n",
    "        a_t = self.ensemble.traj_a[-1]\n",
    "        v_t = self.ensemble.traj_v[-1]\n",
    "        m = self.ensemble.mass\n",
    "        N = self.ensemble.number_particles\n",
    "        kB = self.const_kB\n",
    "        sig_F = self.ensemble.sign_force\n",
    "        \n",
    "        v_t_dt_2 = v_t + 0.5*a_t*delta_t\n",
    "        x_t_dt = x_t + v_t_dt_2*delta_t \n",
    "        \n",
    "        e_t_dt, g_t_dt = self.ensemble.potential(x_t_dt)\n",
    "        a_t_dt = sig_F*g_t_dt/m\n",
    "        \n",
    "        v_t_dt = v_t_dt_2 + 0.5*a_t_dt*delta_t\n",
    "        e_kin_t_dt = np.sum(np.sum(0.5*m*v_t_dt*v_t_dt,axis=-1),axis=-1,keepdims=True)\n",
    "        p_t_dt = v_t_dt*m\n",
    "        T_dt = 2/3*e_kin_t_dt/N/kB\n",
    "\n",
    "        # Add time-step\n",
    "        self.ensemble.traj_x.append(x_t_dt)\n",
    "        self.ensemble.traj_v.append(v_t_dt)\n",
    "        self.ensemble.traj_a.append(a_t_dt)\n",
    "        self.ensemble.traj_t.append(t + delta_t)\n",
    "        self.ensemble.traj_F.append(sig_F*g_t_dt)\n",
    "        self.ensemble.traj_E.append(e_t_dt)\n",
    "        self.ensemble.traj_E_kin.append(e_kin_t_dt)\n",
    "        self.ensemble.traj_T.append(T_dt)\n",
    "        self.ensemble.traj_p.append(p_t_dt)"
   ]
  },
  {
   "cell_type": "code",
   "execution_count": 82,
   "id": "bd29e492",
   "metadata": {
    "deletable": false,
    "editable": false,
    "nbgrader": {
     "cell_type": "code",
     "checksum": "09ab04ce270ec9d859127cfb7520786a",
     "grade": false,
     "grade_id": "cell-73c2a6cebde55c48",
     "locked": true,
     "schema_version": 3,
     "solution": false,
     "task": false
    }
   },
   "outputs": [],
   "source": [
    "class BerendsenThermostat(TimeIntegration): \n",
    "    \n",
    "    def __init__(self,ensemble,f_cool = 0,T0 = 300):\n",
    "        \"\"\"Make Time Integration with Berendsen Thermostat for Verlet.\n",
    "        \n",
    "        Args:\n",
    "            ensemble: BatchEnsemble class\n",
    "            f_cool: Colling coupling as frequency in [fs]\n",
    "            T0: Temperature of bath [K]\n",
    "        \"\"\"\n",
    "        self.ensemble=ensemble\n",
    "        self.f_cool = f_cool/1e-15*self.unit_atu_s\n",
    "        self.T0 = T0\n",
    "\n",
    "    def propagate_timestep(self, delta_t):\n",
    "        # time in atu\n",
    "        \n",
    "        t = self.ensemble.traj_t[-1] \n",
    "        x_t = self.ensemble.traj_x[-1]\n",
    "        a_t = self.ensemble.traj_a[-1]\n",
    "        v_t = self.ensemble.traj_v[-1]\n",
    "        m = self.ensemble.mass\n",
    "        N = self.ensemble.number_particles\n",
    "        kB = self.const_kB\n",
    "        sig_F = self.ensemble.sign_force\n",
    "        f_cool = self.f_cool\n",
    "        \n",
    "        v_t_dt_2 = v_t + 0.5*a_t*delta_t\n",
    "        \n",
    "        e_kin_t_dt_2 = np.sum(np.sum(0.5*m*v_t_dt_2*v_t_dt_2,axis=-1),axis=-1,keepdims=True)\n",
    "        T_dt_2 = 2/3*e_kin_t_dt_2/N/kB\n",
    "        lamd = np.sqrt(1+f_cool*delta_t*(self.T0/T_dt_2-1))\n",
    "        \n",
    "        x_t_dt = x_t + v_t_dt_2*delta_t \n",
    "        \n",
    "        e_t_dt, g_t_dt = self.ensemble.potential(x_t_dt)\n",
    "        a_t_dt = sig_F*g_t_dt/m\n",
    "        \n",
    "        v_t_dt = v_t_dt_2 + 0.5*a_t_dt*delta_t\n",
    "        v_t_dt = np.expand_dims(lamd,axis=-1)*v_t_dt\n",
    "        e_kin_t_dt = np.sum(np.sum(0.5*m*v_t_dt*v_t_dt,axis=-1),axis=-1,keepdims=True)\n",
    "        p_t_dt = v_t_dt*m\n",
    "        T_dt = 2/3*e_kin_t_dt/N/kB\n",
    "\n",
    "        # Add time-step\n",
    "        self.ensemble.traj_x.append(x_t_dt)\n",
    "        self.ensemble.traj_v.append(v_t_dt)\n",
    "        self.ensemble.traj_a.append(a_t_dt)\n",
    "        self.ensemble.traj_t.append(t + delta_t)\n",
    "        self.ensemble.traj_F.append(sig_F*g_t_dt)\n",
    "        self.ensemble.traj_E.append(e_t_dt)\n",
    "        self.ensemble.traj_E_kin.append(e_kin_t_dt)\n",
    "        self.ensemble.traj_T.append(T_dt)\n",
    "        self.ensemble.traj_p.append(p_t_dt)"
   ]
  },
  {
   "cell_type": "markdown",
   "id": "453682b4",
   "metadata": {
    "deletable": false,
    "editable": false,
    "nbgrader": {
     "cell_type": "markdown",
     "checksum": "da7c1087cd6ed12fab4bd2c1beae8762",
     "grade": false,
     "grade_id": "cell-f910e0f8b922e083",
     "locked": true,
     "schema_version": 3,
     "solution": false,
     "task": false
    }
   },
   "source": [
    "Now we can run a very simple MD simulation for a batch of molecules. We take the energy minimum and initialize a batch of molecules with temperature T. We also have to provide mass and the neural network potential in matching units. Please submit you notebook with `do_poropgate = False` and `show_trajectory = False`."
   ]
  },
  {
   "cell_type": "code",
   "execution_count": 83,
   "id": "58d8910b",
   "metadata": {
    "deletable": false,
    "nbgrader": {
     "cell_type": "code",
     "checksum": "6bc7c78d275ba1cccd4bde2e5ca7d7b3",
     "grade": false,
     "grade_id": "cell-ce278e50897d016a",
     "locked": false,
     "schema_version": 3,
     "solution": true,
     "task": false
    }
   },
   "outputs": [],
   "source": [
    "do_poropgate = False\n",
    "show_trajectory = False\n",
    "# YOUR CODE HERE\n",
    "#do_poropgate = True\n",
    "#show_trajectory = True"
   ]
  },
  {
   "cell_type": "code",
   "execution_count": 84,
   "id": "b4800a8b",
   "metadata": {
    "deletable": false,
    "editable": false,
    "nbgrader": {
     "cell_type": "code",
     "checksum": "26a118d0e722f641bfb419ac4d354ff4",
     "grade": false,
     "grade_id": "cell-826c080d4ea3e3f9",
     "locked": true,
     "schema_version": 3,
     "solution": false,
     "task": false
    }
   },
   "outputs": [
    {
     "name": "stdout",
     "output_type": "stream",
     "text": [
      "Energy Minimum -3148.5957961\n"
     ]
    }
   ],
   "source": [
    "# Make a batch molecules.\n",
    "lowest = np.argsort(energies)[0]\n",
    "print(\"Energy Minimum\",energies[lowest])\n",
    "x_md = geos[lowest]\n",
    "x_md = np.repeat(np.expand_dims(x_md,axis=0),10,axis=0)\n",
    "x_md = x_md/PotentialNN.unit_Bohr_A\n",
    "mass = np.array([[[12.0],[15.99491],[1.007825],[1.007825],[1.007825],[1.007825]]])*BatchEnsemble.unit_1u_me\n",
    "\n",
    "# Setup Ensemble and \n",
    "potential = PotentialNN(model,scaler)\n",
    "ensemble_md = BatchEnsemble(x_md, mass, potential)\n",
    "ensemble_md.initialize_velocity(1000.0)\n",
    "trajectory_md = VerletIntegration(ensemble_md)"
   ]
  },
  {
   "cell_type": "code",
   "execution_count": 85,
   "id": "70dc3b83",
   "metadata": {
    "deletable": false,
    "editable": false,
    "nbgrader": {
     "cell_type": "code",
     "checksum": "eee25f98ec03935f64edb4769727951b",
     "grade": false,
     "grade_id": "cell-2af459b8cba338fc",
     "locked": true,
     "schema_version": 3,
     "solution": false,
     "task": false
    }
   },
   "outputs": [],
   "source": [
    "if do_poropgate:\n",
    "    trajectory_md.propagate(1000,1)\n",
    "    plt.figure(figsize=(15,5))\n",
    "    plt.subplot(121)\n",
    "    for i in range(10):\n",
    "        plt.plot(np.array(ensemble_md.traj_t),np.array(ensemble_md.traj_E)[:,i,0], label=str(i))\n",
    "    plt.legend(loc=\"right\")\n",
    "    plt.xlabel(\"Time [a.t.u]\")\n",
    "    plt.ylabel(\"Potential Energy [Hatree]\")\n",
    "    plt.subplot(122)\n",
    "    for i in range(10):\n",
    "        plt.plot(np.array(ensemble_md.traj_t),np.array(ensemble_md.traj_T)[:,i,0], label=str(i))\n",
    "    plt.legend(loc=\"right\")\n",
    "    plt.xlabel(\"Time [a.t.u]\")\n",
    "    plt.ylabel(\"Temperature [K]\")\n",
    "    plt.ylim([0,2000])\n",
    "    plt.show()"
   ]
  },
  {
   "cell_type": "markdown",
   "id": "6ed55bda",
   "metadata": {
    "deletable": false,
    "editable": false,
    "nbgrader": {
     "cell_type": "markdown",
     "checksum": "e1bc498b1c224033c7725141caeaa47c",
     "grade": false,
     "grade_id": "cell-86dfea582a988553",
     "locked": true,
     "schema_version": 3,
     "solution": false,
     "task": false
    }
   },
   "source": [
    "We can look at a molecule from the batch with the `ase` viewer. You should see a new pannel where you can hit play and choose the number of frames per second."
   ]
  },
  {
   "cell_type": "code",
   "execution_count": 86,
   "id": "01a57313",
   "metadata": {
    "deletable": false,
    "editable": false,
    "nbgrader": {
     "cell_type": "code",
     "checksum": "96909007935a5beff6c1771b4d4ce020",
     "grade": false,
     "grade_id": "cell-01698e6c7b5de7fc",
     "locked": true,
     "schema_version": 3,
     "solution": false,
     "task": false
    }
   },
   "outputs": [],
   "source": [
    "if show_trajectory:\n",
    "    import ase\n",
    "    from ase.visualize import view\n",
    "    traj_pos_md = np.array(ensemble_md.traj_x)[:,0,:,:]*0.52917721090380\n",
    "    traj_pos_md_ase = [ase.Atoms(['C', 'O', 'H', 'H', 'H', 'H'],positions=x) for x in traj_pos_md]\n",
    "    view(traj_pos_md_ase)"
   ]
  },
  {
   "cell_type": "markdown",
   "id": "8356b5a1",
   "metadata": {
    "deletable": false,
    "editable": false,
    "nbgrader": {
     "cell_type": "markdown",
     "checksum": "3c0f5ed8c700fb9f8caf52f84c670ce7",
     "grade": false,
     "grade_id": "cell-6bd5c489cd2bcc47",
     "locked": true,
     "schema_version": 3,
     "solution": false,
     "task": false
    }
   },
   "source": [
    "You notice a large spread in the initial temperatures. Have a look at the method `initialize_velocity` in the definition of the `BatchEnsemble` class. What could be a better way to initialized the velocities to achieve a specific kinetic energy or temperature. \n",
    "\n",
    "1. Set all $\\forall v \\in \\mathbb{R}^3: v_{x,y,z} = v_0 $ constant.\n",
    "2. Choose a $|v|$ from Maxwell-Boltzmann distribution and a random direction for each atom, remove the COM velocity and rescale according to desired temperature.\n",
    "3. Set all $v = 0$ and adjust potential scale."
   ]
  },
  {
   "cell_type": "code",
   "execution_count": 87,
   "id": "39bcc100",
   "metadata": {
    "deletable": false,
    "nbgrader": {
     "cell_type": "code",
     "checksum": "46398a21d25efc79c268e931475b4b0c",
     "grade": false,
     "grade_id": "cell-4dcbb1401b3f9823",
     "locked": false,
     "schema_version": 3,
     "solution": true,
     "task": false
    }
   },
   "outputs": [],
   "source": [
    "answer_md_v = 0 # choose the correct answer\n",
    "# YOUR CODE HERE\n",
    "answer_md_v = 2"
   ]
  },
  {
   "cell_type": "code",
   "execution_count": 88,
   "id": "e0ea4136",
   "metadata": {
    "deletable": false,
    "editable": false,
    "nbgrader": {
     "cell_type": "code",
     "checksum": "1b5031348d21ee6fd53e7d5801c81cb0",
     "grade": true,
     "grade_id": "answermd",
     "locked": true,
     "points": 1,
     "schema_version": 3,
     "solution": false,
     "task": false
    }
   },
   "outputs": [],
   "source": [
    "# 1 Points\n",
    "assert answer_md_v != 0"
   ]
  },
  {
   "cell_type": "markdown",
   "id": "98cd6b05",
   "metadata": {
    "deletable": false,
    "editable": false,
    "nbgrader": {
     "cell_type": "markdown",
     "checksum": "39f1f452dd948f8ff14eba78d552d598",
     "grade": false,
     "grade_id": "cell-b0ae3740e96867bc",
     "locked": true,
     "schema_version": 3,
     "solution": false,
     "task": false
    }
   },
   "source": [
    "Now we run the MD Simulation with a thermostat. That means we can cool the system during the simulation."
   ]
  },
  {
   "cell_type": "code",
   "execution_count": 89,
   "id": "107cdd01",
   "metadata": {
    "deletable": false,
    "editable": false,
    "nbgrader": {
     "cell_type": "code",
     "checksum": "c2ff25102bf0267017c6a06a7f4d7fb3",
     "grade": false,
     "grade_id": "cell-6fc08a2903b6f25b",
     "locked": true,
     "schema_version": 3,
     "solution": false,
     "task": false
    }
   },
   "outputs": [],
   "source": [
    "potential = PotentialNN(model,scaler)\n",
    "ensemble_md = BatchEnsemble(x_md, mass, potential)\n",
    "ensemble_md.initialize_velocity(1000.0)\n",
    "trajectory_md = BerendsenThermostat(ensemble_md,f_cool = 0.01, T0 = 5)"
   ]
  },
  {
   "cell_type": "code",
   "execution_count": 90,
   "id": "c554fd2f",
   "metadata": {
    "deletable": false,
    "editable": false,
    "nbgrader": {
     "cell_type": "code",
     "checksum": "35219e01cb7935781fb626f9eec20d5f",
     "grade": false,
     "grade_id": "cell-2e0f4e472d66b46c",
     "locked": true,
     "schema_version": 3,
     "solution": false,
     "task": false
    }
   },
   "outputs": [],
   "source": [
    "if do_poropgate:\n",
    "    trajectory_md.propagate(2000,1)\n",
    "    plt.figure(figsize=(15,5))\n",
    "    plt.subplot(121)\n",
    "    for i in range(10):\n",
    "        plt.plot(np.array(ensemble_md.traj_t),np.array(ensemble_md.traj_E)[:,i,0], label=str(i))\n",
    "    plt.legend(loc=\"right\")\n",
    "    plt.xlabel(\"Time [a.t.u]\")\n",
    "    plt.ylabel(\"Potential Energy [Hatree]\")\n",
    "    plt.subplot(122)\n",
    "    for i in range(10):\n",
    "        plt.plot(np.array(ensemble_md.traj_t),np.array(ensemble_md.traj_T)[:,i,0], label=str(i))\n",
    "    plt.legend(loc=\"right\")\n",
    "    plt.xlabel(\"Time [a.t.u]\")\n",
    "    plt.ylabel(\"Temperature [K]\")\n",
    "    plt.ylim([0,2000])\n",
    "    plt.show()"
   ]
  },
  {
   "cell_type": "code",
   "execution_count": 91,
   "id": "5b87128b",
   "metadata": {
    "deletable": false,
    "editable": false,
    "nbgrader": {
     "cell_type": "code",
     "checksum": "dca08c75c341093f7a9b1b75cc8724f7",
     "grade": false,
     "grade_id": "cell-ef80f37f7927ecee",
     "locked": true,
     "schema_version": 3,
     "solution": false,
     "task": false
    }
   },
   "outputs": [],
   "source": [
    "if show_trajectory:\n",
    "    import ase\n",
    "    from ase.visualize import view\n",
    "    traj_pos_md = np.array(ensemble_md.traj_x)[:,0,:,:]*0.52917721090380\n",
    "    traj_pos_md_ase = [ase.Atoms(['C', 'O', 'H', 'H', 'H', 'H'],positions=x) for x in traj_pos_md]\n",
    "    view(traj_pos_md_ase)"
   ]
  },
  {
   "cell_type": "markdown",
   "id": "03c3b43d",
   "metadata": {
    "deletable": false,
    "editable": false,
    "nbgrader": {
     "cell_type": "markdown",
     "checksum": "58b9fa9944e7a090fbbe858db48ef2c8",
     "grade": false,
     "grade_id": "cell-08ed82b4ca3c0f80",
     "locked": true,
     "schema_version": 3,
     "solution": false,
     "task": false
    }
   },
   "source": [
    "Compare the time evolution of the simulation with Verlet integration to the one with Berendsen thermostat, which one shows the decrease in the temperature and energy of the system? Answer with a string \"A\" for the Verlet and \"B\" for the Berendsen. Hint: you could also check the visualization and observe the molecule's vibration over time."
   ]
  },
  {
   "cell_type": "code",
   "execution_count": 92,
   "id": "fdbf6f0f",
   "metadata": {
    "deletable": false,
    "nbgrader": {
     "cell_type": "code",
     "checksum": "64f59847cfc615a322c9d216beb66bab",
     "grade": false,
     "grade_id": "cell-ff46ddad037832ee",
     "locked": false,
     "schema_version": 3,
     "solution": true,
     "task": false
    }
   },
   "outputs": [],
   "source": [
    "answer_observation = \"\"\n",
    "# YOUR CODE HERE\n",
    "answer_observation = \"A\""
   ]
  },
  {
   "cell_type": "code",
   "execution_count": 93,
   "id": "a296a694",
   "metadata": {
    "deletable": false,
    "editable": false,
    "nbgrader": {
     "cell_type": "code",
     "checksum": "cfac60636c84fc4e2a57226ce09959e1",
     "grade": true,
     "grade_id": "Answer_Thermo",
     "locked": true,
     "points": 1,
     "schema_version": 3,
     "solution": false,
     "task": false
    }
   },
   "outputs": [],
   "source": [
    "# 1 Point\n",
    "assert isinstance(answer_observation, str)"
   ]
  },
  {
   "cell_type": "code",
   "execution_count": 94,
   "id": "e81ea004",
   "metadata": {
    "deletable": false,
    "editable": false,
    "nbgrader": {
     "cell_type": "code",
     "checksum": "fee043429d0da27706eea11737fd9e8e",
     "grade": true,
     "grade_id": "AllOff",
     "locked": true,
     "points": 3,
     "schema_version": 3,
     "solution": false,
     "task": false
    }
   },
   "outputs": [],
   "source": [
    "# 3 Points\n",
    "assert do_training == False\n",
    "assert do_poropgate == False\n",
    "assert show_trajectory == False"
   ]
  },
  {
   "cell_type": "code",
   "execution_count": null,
   "id": "40f54a4a",
   "metadata": {},
   "outputs": [],
   "source": []
  }
 ],
 "metadata": {
  "kernelspec": {
   "display_name": "Python 3 (ipykernel)",
   "language": "python",
   "name": "python3"
  },
  "language_info": {
   "codemirror_mode": {
    "name": "ipython",
    "version": 3
   },
   "file_extension": ".py",
   "mimetype": "text/x-python",
   "name": "python",
   "nbconvert_exporter": "python",
   "pygments_lexer": "ipython3",
   "version": "3.9.12"
  }
 },
 "nbformat": 4,
 "nbformat_minor": 5
}
