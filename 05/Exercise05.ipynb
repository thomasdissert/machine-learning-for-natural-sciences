{
 "cells": [
  {
   "cell_type": "markdown",
   "metadata": {
    "deletable": false,
    "editable": false,
    "nbgrader": {
     "cell_type": "markdown",
     "checksum": "a97ff58907f9923f5bfa3e8aa9944ed6",
     "grade": false,
     "grade_id": "cell-06aa629a0207eeaf",
     "locked": true,
     "schema_version": 3,
     "solution": false,
     "task": false
    }
   },
   "source": [
    "# Exercise Sheet No. 5\n",
    "\n",
    "---\n",
    "\n",
    "> Machine Learning for Natural Sciences, Summer 2022, Jun.-Prof. Pascal Friederich, pascal.friederich@kit.edu\n",
    "> \n",
    "> Deadline: 23.05.2022, 8 am\n",
    "> \n",
    "> Tutor: Chen Zhou (chen.zhou@kit.edu)\n",
    ">\n",
    "> **Please ask questions in the forum and only contact the Tutor when there are issues with the grading**\n",
    "\n",
    "---\n",
    "\n",
    "**Topic**: This exercise sheet will focus on Bayesian statistics, k-nearest neighbors and monte-carlo simulation."
   ]
  },
  {
   "cell_type": "markdown",
   "metadata": {
    "deletable": false,
    "editable": false,
    "nbgrader": {
     "cell_type": "markdown",
     "checksum": "d2309b76e418af1fe1892da6844d606f",
     "grade": false,
     "grade_id": "cell-b4b7e8190a5548e9",
     "locked": true,
     "schema_version": 3,
     "solution": false,
     "task": false
    }
   },
   "source": [
    "# 5 Bayes' theorem\n",
    "\n",
    "Here are Bayes rule and some important formulas of lecture 2.\n",
    "\n",
    "$$\\boxed{p(y|x) = \\frac{p(x|y) p(y)}{p(x)} }$$\n",
    "\n",
    "where $p(y|x)$ is the posterior, $p(x|y)$ the likelihood, $p(x)$ the evidence and $p(y)$ the prior. Here, $p(x\\mid y)$ is a conditional probability, which gives the probability of event $x$ occurring given that $y$ is true. Marginalization over a variable e.g. $y$ (\"eliminate variable $y$\") is defined by:\n",
    "\n",
    "$$p(x) = \\sum\\limits_k p(x|y{=}k) \\; p(y{=}k)$$\n",
    "\n",
    "Where k is each possible realization of y."
   ]
  },
  {
   "cell_type": "markdown",
   "metadata": {
    "deletable": false,
    "editable": false,
    "nbgrader": {
     "cell_type": "markdown",
     "checksum": "b2ed0ea865a507e4d68372f0d71b6bf3",
     "grade": false,
     "grade_id": "cell-214c0a7873e0ea53",
     "locked": true,
     "schema_version": 3,
     "solution": false,
     "task": false
    }
   },
   "source": [
    "Note: You do not have to give a full proof as markdown. Assigning the value to e.g. `p_of_x` is enough."
   ]
  },
  {
   "cell_type": "markdown",
   "metadata": {
    "deletable": false,
    "editable": false,
    "nbgrader": {
     "cell_type": "markdown",
     "checksum": "cb31951a04df0691451ebfec6469baf5",
     "grade": false,
     "grade_id": "cell-0cf184edcccebbe4",
     "locked": true,
     "schema_version": 3,
     "solution": false,
     "task": false
    }
   },
   "source": [
    "Let us consider the following toy problem for the Naive Bayes classifier. The feature variable $X \\in [0, 1]$ is real-valued and 1-dimensional, and the response of the system $Y \\in \\{0, 1\\}$ is discrete with two classes $0$ and $1$. For the system only the prior probabilities and likelihoods (as density functions f) are known. They are given by\n",
    "\n",
    "$$p(y = 0) = p(y = 1) = \\frac{1}{2}$$\n",
    "\n",
    "$$p(x\\,|\\,y = 0) =  2 - 2x$$\n",
    "\n",
    "$$p(x\\,|\\,y = 1) = 2x$$\n",
    "\n",
    "Now, calculate the probability density of $x$, i.e., $p(x)$ by marginalization over $y$. \n",
    "\n",
    "Hint: Marginalization with discrete variables is defined by $p(x) = \\sum_y p(x|y) p(y)$"
   ]
  },
  {
   "cell_type": "code",
   "execution_count": 1,
   "metadata": {
    "deletable": false,
    "nbgrader": {
     "cell_type": "code",
     "checksum": "79babef558ba352512f6350a47210755",
     "grade": false,
     "grade_id": "p_of_x",
     "locked": false,
     "schema_version": 3,
     "solution": true,
     "task": false
    }
   },
   "outputs": [],
   "source": [
    "p_of_x = None # please assign a numeric value to p_of_x\n",
    "# YOUR CODE HERE\n",
    "p_of_y_0 = 0.5\n",
    "p_of_y_1 = 0.5\n",
    "\n",
    "p_of_x_given_y_0 = lambda x: 2 - 2 * x\n",
    "p_of_x_given_y_1 = lambda x: 2 * x\n",
    "\n",
    "p_of_x = 1"
   ]
  },
  {
   "cell_type": "code",
   "execution_count": 2,
   "metadata": {
    "deletable": false,
    "editable": false,
    "nbgrader": {
     "cell_type": "code",
     "checksum": "3a7c45dfc8cac4fe9d1b2b63140b0681",
     "grade": true,
     "grade_id": "p_of_x_test",
     "locked": true,
     "points": 1,
     "schema_version": 3,
     "solution": false,
     "task": false
    }
   },
   "outputs": [],
   "source": [
    "# (1 Point)\n",
    "# The derivation is not graded, only the answer yields 1 Point\n",
    "assert p_of_x or p_of_x == 0, 'Please assign a value to p_of_x!'\n",
    "# Additional test for p(x)"
   ]
  },
  {
   "cell_type": "markdown",
   "metadata": {
    "deletable": false,
    "editable": false,
    "nbgrader": {
     "cell_type": "markdown",
     "checksum": "09ed426a6f97a631e6c53490d23677f2",
     "grade": false,
     "grade_id": "cell-82b26320e2bff41b",
     "locked": true,
     "schema_version": 3,
     "solution": false,
     "task": false
    }
   },
   "source": [
    "Calculate the true posteriors $p^*(y|x)$ by using Bayes rule. Since $y$ is a discrete variable it is again enough to calculate the classes $\\{0,1\\}$ separatly \n",
    "\n",
    "$$p^*(y=0\\,|\\,x) = \\frac{p(x\\,|\\,y = 0)\\,p(y = 0)}{p(x)}$$\n",
    "$$p^*(y=1\\,|\\,x) = \\frac{p(x\\,|\\,y = 1)\\,p(y = 1)}{p(x)}$$\n",
    "\n",
    "The Naive Bayesian classifier would then be: \"pick the highest probability class for given $x$\". \n",
    "\n",
    "$$\\hat{f}(x) = \\underset{k}{\\text{argmax}} \\; p^*(y=k|x)$$"
   ]
  },
  {
   "cell_type": "code",
   "execution_count": 3,
   "metadata": {
    "deletable": false,
    "nbgrader": {
     "cell_type": "code",
     "checksum": "9189104de4bfd9a38fc5e78a562da268",
     "grade": false,
     "grade_id": "p_y_x",
     "locked": false,
     "schema_version": 3,
     "solution": true,
     "task": false
    }
   },
   "outputs": [],
   "source": [
    "import matplotlib.pyplot as plt\n",
    "import numpy as np\n",
    "# Give your solution as a function and plot it\n",
    "def prob_y_x(y,x): # p*(y|x)\n",
    "    \"\"\"Calculate p(y) given x.\n",
    "    Args:\n",
    "        y (int): y value either 0 or 1.\n",
    "        x (np.array): Array of x-values of shape (N,)\n",
    "    Returns:\n",
    "        np.array: Probability of p(y) given x of shape (N,)\n",
    "    \"\"\"\n",
    "    prob_density = None # please update this in your solution\n",
    "    # YOUR CODE HERE\n",
    "    \n",
    "    if y == 0:\n",
    "        prob_density = (p_of_x_given_y_0(x) * p_of_y_0) / p_of_x\n",
    "    else:\n",
    "        prob_density = (p_of_x_given_y_1(x) * p_of_y_1) / p_of_x\n",
    "        \n",
    "    \n",
    "    return prob_density"
   ]
  },
  {
   "cell_type": "code",
   "execution_count": 4,
   "metadata": {},
   "outputs": [
    {
     "data": {
      "image/png": "[encoded data removed]",
      "text/plain": [
       "<Figure size 432x288 with 1 Axes>"
      ]
     },
     "metadata": {
      "needs_background": "light"
     },
     "output_type": "display_data"
    }
   ],
   "source": [
    "# plot the probability p(y|x) (ordinate) against x (abscissa) for y=0 and y=1\n",
    "plt.figure()\n",
    "sampling = np.linspace(0,1,100)\n",
    "plt.plot(sampling, prob_y_x(0,sampling),label=\"y=0\")\n",
    "plt.plot(sampling, prob_y_x(1,sampling),label=\"y=1\")\n",
    "plt.legend()\n",
    "plt.xlabel(\"x\")\n",
    "plt.ylabel('p(y|x)')\n",
    "plt.show()"
   ]
  },
  {
   "cell_type": "code",
   "execution_count": 5,
   "metadata": {
    "deletable": false,
    "editable": false,
    "nbgrader": {
     "cell_type": "code",
     "checksum": "fe71886acf85d3611938e8283c538026",
     "grade": true,
     "grade_id": "p_y_x_test",
     "locked": true,
     "points": 2,
     "schema_version": 3,
     "solution": false,
     "task": false
    }
   },
   "outputs": [],
   "source": [
    "# (2 Points)\n",
    "assert np.abs(prob_y_x(0,0.0) - 1.0 ) < 0.001\n",
    "# Hidden tests below\n",
    "# Additional test for p (y|x) with y=0 or y=1"
   ]
  },
  {
   "cell_type": "markdown",
   "metadata": {
    "deletable": false,
    "editable": false,
    "nbgrader": {
     "cell_type": "markdown",
     "checksum": "760690d749eebcc6c5cef0fcef2a9028",
     "grade": false,
     "grade_id": "cell-ec69f2b1fdb00722",
     "locked": true,
     "schema_version": 3,
     "solution": false,
     "task": false
    }
   },
   "source": [
    "### 5.1 Bayes error rate\n",
    "\n",
    "The Bayes error rate can be described by the probability of failure of the Bayes classifer $\\mathbb{E}[ p(\\hat{y} {\\ne} y^* |x)]$, where $\\mathbb{E}$ denotes the expectation value, defined by $\\mathbb{E}[X] = \\int x \\; p(x) \\; dx$. The probability of error can also be defined by $p(\\text{error}) = 1- p(\\text{success}) = 1 - \\mathbb{E}_{x\\sim p(x)}[p(\\hat{y}_i=y_i^*|x)]$, which gives:\n",
    "\n",
    "$$\\mathbb{E}[p(\\hat{y} {\\ne} y^* |x)] = \\int (1- \\underset{k}{\\text{max}}\\; p^*(y{=}k|x)) \\;  p(x) \\, dx$$\n",
    "\n",
    "Determine the error rate for the toy problem, i.e. the best achievable error for Bayes classifer, using the above formular. In this case this is equal to a threshold classifier that picks either $y \\in \\{0,1\\}$ depending whether $x$ is smaller or bigger than a threshold $x_t = 1/2$. \n",
    "\n",
    "Bonus: If you want you can prove that $x_t = 1/2$ is the best choice of a threshold (not graded)."
   ]
  },
  {
   "cell_type": "code",
   "execution_count": 6,
   "metadata": {
    "deletable": false,
    "nbgrader": {
     "cell_type": "code",
     "checksum": "42782a339363188c0fc27bb9cb63495b",
     "grade": false,
     "grade_id": "error_bayes",
     "locked": false,
     "schema_version": 3,
     "solution": true,
     "task": false
    }
   },
   "outputs": [
    {
     "data": {
      "text/plain": [
       "0.24997449239873482"
      ]
     },
     "execution_count": 6,
     "metadata": {},
     "output_type": "execute_result"
    }
   ],
   "source": [
    "error_bayes = None # error rate not in % but [0,1]\n",
    "# YOUR CODE HERE\n",
    "error_x = lambda x: np.trapz((1 - np.max([prob_y_x(0, x),prob_y_x(1, x)], axis=0)) * p_of_x, x)\n",
    "error_bayes = error_x(sampling)\n",
    "\n",
    "error_bayes\n"
   ]
  },
  {
   "cell_type": "code",
   "execution_count": 7,
   "metadata": {
    "deletable": false,
    "editable": false,
    "nbgrader": {
     "cell_type": "code",
     "checksum": "2753f7c47b4661b2f4174dab4a73bebb",
     "grade": true,
     "grade_id": "error_bayes_test",
     "locked": true,
     "points": 2,
     "schema_version": 3,
     "solution": false,
     "task": false
    }
   },
   "outputs": [],
   "source": [
    "# (2 Points)\n",
    "# The derivation is not graded, only the answer yields 2 Points\n",
    "assert isinstance(error_bayes, float) "
   ]
  },
  {
   "cell_type": "markdown",
   "metadata": {
    "deletable": false,
    "editable": false,
    "nbgrader": {
     "cell_type": "markdown",
     "checksum": "e087f139e8cfdda16d89869c4f4551af",
     "grade": false,
     "grade_id": "cell-8346849135e441e4",
     "locked": true,
     "schema_version": 3,
     "solution": false,
     "task": false
    }
   },
   "source": [
    "### 5.2 Nearest Neighbour error rate\n",
    "\n",
    "The nearest-neighbor classiffier's asymptotic local error ($N \\to \\infty$) is given by the Gini impurity for 1-NN and based on Bayes classification (without proof):\n",
    "\n",
    "$$ p_\\infty(\\text{error}|x) = 1-\\sum_k p(y=k|x)^2$$\n",
    "\n",
    "And for the asymptotic overall error\n",
    "\n",
    "$$ P_\\infty(\\text{error}) = \\int p_{\\infty}(\\text{error}\\,|\\,x)\\,p(x)\\,dx =\\int \\left(1-\\sum_k p(y=k|x)^2 \\right) \\,p(x)\\,dx$$\n",
    "\n",
    "Determine the error rate for the toy problem, i.e. the best achievable error for Nearest Neighbour classifer, using the above formular."
   ]
  },
  {
   "cell_type": "code",
   "execution_count": 8,
   "metadata": {
    "deletable": false,
    "nbgrader": {
     "cell_type": "code",
     "checksum": "abef9b491ad40f1880b2bb58de1723ac",
     "grade": false,
     "grade_id": "error_NN",
     "locked": false,
     "schema_version": 3,
     "solution": true,
     "task": false
    }
   },
   "outputs": [
    {
     "data": {
      "text/plain": [
       "0.3332993231983131"
      ]
     },
     "execution_count": 8,
     "metadata": {},
     "output_type": "execute_result"
    }
   ],
   "source": [
    "error_NN = None  # error rate not in % but [0,1]\n",
    "# YOUR CODE HERE\n",
    "p_error_x = lambda x: 1 - (prob_y_x(0, x)**2 + prob_y_x(1, x)**2)\n",
    "P_error = lambda x: np.trapz((p_error_x(x)*p_of_x), x)\n",
    "\n",
    "error_NN = P_error(sampling)\n",
    "error_NN\n"
   ]
  },
  {
   "cell_type": "code",
   "execution_count": 9,
   "metadata": {
    "deletable": false,
    "editable": false,
    "nbgrader": {
     "cell_type": "code",
     "checksum": "a341732ed7f776354b98ef4a4452ea16",
     "grade": true,
     "grade_id": "error_NN_test",
     "locked": true,
     "points": 1,
     "schema_version": 3,
     "solution": false,
     "task": false
    }
   },
   "outputs": [],
   "source": [
    "# (1 Point)\n",
    "# The derivation is not graded, only the answer yields 1 Point\n",
    "assert isinstance(error_NN, float)"
   ]
  },
  {
   "cell_type": "markdown",
   "metadata": {
    "deletable": false,
    "editable": false,
    "nbgrader": {
     "cell_type": "markdown",
     "checksum": "2fd024f6b0f64b0a40d4697f1844c0c0",
     "grade": false,
     "grade_id": "cell-7d6e44ab864416be",
     "locked": true,
     "schema_version": 3,
     "solution": false,
     "task": false
    }
   },
   "source": [
    "### 5.3 Error rate for constant classifier\n",
    "\n",
    "At last, determine the error rate for our toy problem for a classifier that knows nothing about $x$, or more specifically the randomly guesses $y$ or always picks for example $y=1$ ."
   ]
  },
  {
   "cell_type": "code",
   "execution_count": 10,
   "metadata": {
    "deletable": false,
    "nbgrader": {
     "cell_type": "code",
     "checksum": "5f4deead195b053be30ac654afb0ce56",
     "grade": false,
     "grade_id": "error_guess",
     "locked": false,
     "schema_version": 3,
     "solution": true,
     "task": false
    }
   },
   "outputs": [
    {
     "data": {
      "text/plain": [
       "0.6666496615991566"
      ]
     },
     "execution_count": 10,
     "metadata": {},
     "output_type": "execute_result"
    }
   ],
   "source": [
    "error_guess = None # error rate not in % but [0,1]\n",
    "# YOUR CODE HERE\n",
    "error_guess_x = lambda x: np.trapz((1 - ((((2*x)*0.5)/(p_of_x))**2)) * p_of_x,x)\n",
    "error_guess = error_guess_x(sampling)\n",
    "error_guess"
   ]
  },
  {
   "cell_type": "code",
   "execution_count": 11,
   "metadata": {
    "deletable": false,
    "editable": false,
    "nbgrader": {
     "cell_type": "code",
     "checksum": "0d390f0d6e69a7e238242116c93dc713",
     "grade": true,
     "grade_id": "error_guess_test",
     "locked": true,
     "points": 1,
     "schema_version": 3,
     "solution": false,
     "task": false
    }
   },
   "outputs": [],
   "source": [
    "# (1 Point)\n",
    "# The derivation is not graded, only the answer yields 1 Point\n",
    "assert isinstance(error_guess, float)"
   ]
  },
  {
   "cell_type": "markdown",
   "metadata": {
    "deletable": false,
    "editable": false,
    "nbgrader": {
     "cell_type": "markdown",
     "checksum": "b321f9d362d1c5b883ae7c3c027d5bdf",
     "grade": false,
     "grade_id": "cell-a5b96c7089da209b",
     "locked": true,
     "schema_version": 3,
     "solution": false,
     "task": false
    }
   },
   "source": [
    "# 5.4 Monte-Carlo\n",
    "\n",
    "To test the above theoretically derived error rates, we can use a random number generator to produce data. Specifically, one first samples an instance label $Y$ according to the prior probabilities, and then uses the\n",
    "corresponding likelihood to sample the feature $X$. If no predefined random generator for the desired\n",
    "likelihood is available (as is the case here), uniformly distributed samples from a standard random\n",
    "number generator can be transformed to the desired distribution by means of \"inverse transform\n",
    "sampling\" (see https://en.wikipedia.org/wiki/Inverse_transform_sampling). You do not have to do this here (we give the solution below), however, you are encouraged to read about it."
   ]
  },
  {
   "cell_type": "code",
   "execution_count": 25,
   "metadata": {
    "deletable": false,
    "editable": false,
    "nbgrader": {
     "cell_type": "code",
     "checksum": "6e712885d5ed721d6bb845159a69a92b",
     "grade": false,
     "grade_id": "cell-efb5de8be5985bf0",
     "locked": true,
     "schema_version": 3,
     "solution": false,
     "task": false
    }
   },
   "outputs": [
    {
     "data": {
      "image/png": "[encoded data removed]",
      "text/plain": [
       "<Figure size 720x216 with 3 Axes>"
      ]
     },
     "metadata": {
      "needs_background": "light"
     },
     "output_type": "display_data"
    }
   ],
   "source": [
    "# Make data\n",
    "def create_data(N,seed=0):\n",
    "    np.random.seed(seed)\n",
    "    data = np.zeros((N, 2), dtype = np.float32)\n",
    "    for i in range(N):\n",
    "        # sample y uniformly between 0 and 1\n",
    "        y = np.random.randint(2)\n",
    "        # use inverse transform sampling for x, given y\n",
    "        u = np.random.rand()\n",
    "        if 0 == y:\n",
    "            x = 1 - np.sqrt(1 - u)\n",
    "        else:\n",
    "            x = np.sqrt(u)\n",
    "        data[i,:] = (x,y)\n",
    "    return data\n",
    "\n",
    "# Generate Data\n",
    "test_data = create_data(100000)\n",
    "X_0 = test_data[test_data[:,1] == 0][:,0]\n",
    "X_1 = test_data[test_data[:,1] == 1][:,0]\n",
    "\n",
    "# show prior and likelihoods for both classes as bar chart and histograms\n",
    "fig = plt.figure(figsize = (10, 3))\n",
    "\n",
    "plt.subplot(131)\n",
    "plt.title(r'prior for class $Y$')\n",
    "plt.bar([0, 1], [X_0.size, X_1.size], width = 0.6)\n",
    "plt.xticks([0,1]); plt.xlim([-0.5, 1.5]); plt.yticks([0,25000,50000], ['0', '25k', '50k'])\n",
    "\n",
    "plt.subplot(132)\n",
    "plt.title(r'likelihood for $Y = 0$')\n",
    "plt.hist(X_0, 50, density = True, facecolor = 'green', alpha = 0.5)\n",
    "plt.ylabel(r'$p(X = x \\mid Y = 0)$')\n",
    "plt.plot([0,1], [2,0])\n",
    "\n",
    "plt.subplot(133)\n",
    "plt.title(r'likelihood for $Y = 1$')\n",
    "plt.hist(X_1, 50, density = True, facecolor = 'blue', alpha = 0.5)\n",
    "plt.ylabel(r'$p(X = x \\mid Y = 1)$')\n",
    "plt.plot([0,1], [0,2])\n",
    "\n",
    "fig.tight_layout(); plt.show()"
   ]
  },
  {
   "cell_type": "markdown",
   "metadata": {
    "deletable": false,
    "editable": false,
    "nbgrader": {
     "cell_type": "markdown",
     "checksum": "58e6531b91bd2bea517103c5fa2f7efa",
     "grade": false,
     "grade_id": "cell-0a70bae0f653a686",
     "locked": true,
     "schema_version": 3,
     "solution": false,
     "task": false
    }
   },
   "source": [
    "### 5.5 Classifier Error rates\n",
    "\n",
    "Now determine \"experimentally\" the error rates for the following classifiers using the random number generation of `create_data()` for the toy problem:\n",
    "\n",
    "* A) Threshold classifier with threshold $x_t$ (for $x_t = 1/2$ this equals Naive Bayes classifier):\n",
    "\n",
    "$$ f_A (x) =  \\begin{cases}\n",
    "\t0 &\\text{if} \\;\\;x < x_t \\\\\n",
    "\t1 & \\text{if} \\;\\;x \\geqslant x_t\n",
    "\t\\end{cases}$$\n",
    "  \n",
    "\n",
    "* B) Constant classifier:\n",
    "\n",
    "$$ f_B(x) = 1$$\n",
    "\n",
    "* C) Random classifier:\n",
    "\n",
    "$$ f_C(x) =  \\begin{cases}\n",
    "\t0 & \\; \\text{with probability} 1/2\\\\\n",
    "\t1 &  \\;\\text{otherwise}\n",
    "\t\\end{cases}$$\n",
    "    \n",
    "* D) Nearest Neighbour classifier (k=1) for a training set $(x_i, y_i) \\in TS$ that is taken from the data above.\n",
    "\n",
    "$$ \\hat{y} = f_D(x;\\text{TS}) = y_{\\hat{i}}^*$$\n",
    "\n",
    "$$\\hat{i} = \\underset{i}{\\text{argmin}}\\; d(x_i,x)$$\n"
   ]
  },
  {
   "cell_type": "code",
   "execution_count": 26,
   "metadata": {
    "deletable": false,
    "nbgrader": {
     "cell_type": "code",
     "checksum": "217e774d647e0f64e328b069ff27c22b",
     "grade": false,
     "grade_id": "rule_A_B_C",
     "locked": false,
     "schema_version": 3,
     "solution": true,
     "task": false
    }
   },
   "outputs": [],
   "source": [
    "# simple classifiers\n",
    "# implement the classifiers' functions below:\n",
    "def pred_A(x,xt):\n",
    "    \"\"\"Classifier A.\n",
    "    Args:\n",
    "        x (np.array): Array of x-values of shape (N,)\n",
    "        x (float): Threshold in (0,1)\n",
    "    Returns:\n",
    "        np.array: Label for x of shape (N,)\n",
    "    \"\"\"\n",
    "    # YOUR CODE HERE\n",
    "    return np.array([0 if x_ < xt else 1 for x_ in x])\n",
    "    \n",
    "\n",
    "def pred_B(x):\n",
    "    \"\"\"Classifier B.\n",
    "    Args:\n",
    "        x (np.array): Array of x-values of shape (N,)\n",
    "    Returns:\n",
    "        np.array: Label for x of shape (N,)\n",
    "    \"\"\"\n",
    "    # YOUR CODE HERE\n",
    "    return np.ones(len(x))\n",
    "\n",
    "def pred_C(x):\n",
    "    \"\"\"Classifier B.\n",
    "    Args:\n",
    "        x (np.array): Array of x-values of shape (N,)\n",
    "    Returns:\n",
    "        np.array: Label for x of shape (N,)\n",
    "    \"\"\"\n",
    "    # YOUR CODE HERE\n",
    "    return np.random.choice([0, 1], size=len(x))\n",
    "\n",
    "# Determine the error rates\n",
    "def ErrorCount(y_pred, y_true):\n",
    "    CountError = np.array(np.rint(y_true), dtype=\"int\") != np.array(np.rint(y_pred),dtype=\"int\")\n",
    "    CountError = np.sum(CountError)\n",
    "    return CountError/len(y_true)\n",
    "\n",
    "\n",
    "# Now determine the error rates with std deviation, i.e. create_data(N=100000) for 5 repetitions\n",
    "dat_mult = [create_data(N=100000,seed=i) for i in range(5)]\n",
    "\n",
    "# For A choose here xt = 0.5\n",
    "# error_A, error_B, error_C are mean values of prediction error rates on the 5 datasets in dat_mult.\n",
    "# error_A_std, error_B_std, error_C_std are corresponding standard deviations.\n",
    "# please implement the calculation in your solution\n",
    "# use the ErrorCount() function to determine the error rate\n",
    "error_A = None\n",
    "error_A_std = None\n",
    "error_B = None\n",
    "error_B_std = None\n",
    "error_C = None\n",
    "error_C_std = None\n",
    "\n",
    "# YOUR CODE HERE\n",
    "error_A = [ErrorCount(pred_A(dat_mult[i][:,0], 0.5), dat_mult[i][:,1]) for i in range(5)]\n",
    "error_A_std = np.std(error_A)\n",
    "error_A = np.mean(error_A)\n",
    "\n",
    "error_B = [ErrorCount(pred_B(dat_mult[i][:,0]), dat_mult[i][:,1]) for i in range(5)]\n",
    "error_B_std = np.std(error_B)\n",
    "error_B = np.mean(error_B)\n",
    "\n",
    "error_C = [ErrorCount(pred_C(dat_mult[i][:,0]), dat_mult[i][:,1]) for i in range(5)]\n",
    "error_C_std = np.std(error_C)\n",
    "error_C = np.mean(error_C)"
   ]
  },
  {
   "cell_type": "code",
   "execution_count": 27,
   "metadata": {
    "deletable": false,
    "editable": false,
    "nbgrader": {
     "cell_type": "code",
     "checksum": "b1c6cebf79df39422dbff0de421ccfd4",
     "grade": false,
     "grade_id": "cell-b221a5f97f07dd3a",
     "locked": true,
     "schema_version": 3,
     "solution": false,
     "task": false
    }
   },
   "outputs": [
    {
     "name": "stdout",
     "output_type": "stream",
     "text": [
      "Error Rate A: 0.251052 ± 0.0014075425393216385\n",
      "Error Rate B: 0.500178 ± 0.0005921959135286205\n",
      "Error Rate C: 0.500318 ± 0.003168099745904472\n"
     ]
    }
   ],
   "source": [
    "print(\"Error Rate A: {} ± {}\".format(error_A,error_A_std))\n",
    "print(\"Error Rate B: {} ± {}\".format(error_B,error_B_std))\n",
    "print(\"Error Rate C: {} ± {}\".format(error_C,error_C_std))"
   ]
  },
  {
   "cell_type": "code",
   "execution_count": 28,
   "metadata": {
    "deletable": false,
    "editable": false,
    "nbgrader": {
     "cell_type": "code",
     "checksum": "6743e3111053814fd97b8ba006e553e5",
     "grade": true,
     "grade_id": "rule_A_B_C_test_A",
     "locked": true,
     "points": 2,
     "schema_version": 3,
     "solution": false,
     "task": false
    }
   },
   "outputs": [],
   "source": [
    "# (2 Points)\n",
    "# Try to assign a single value to the error rates\n",
    "# We will also check the function implementations\n",
    "assert error_A is not None"
   ]
  },
  {
   "cell_type": "code",
   "execution_count": 29,
   "metadata": {
    "deletable": false,
    "editable": false,
    "nbgrader": {
     "cell_type": "code",
     "checksum": "70d519addefe21c12cec5d360c354429",
     "grade": true,
     "grade_id": "rule_A_B_C_test_B",
     "locked": true,
     "points": 2,
     "schema_version": 3,
     "solution": false,
     "task": false
    }
   },
   "outputs": [],
   "source": [
    "# (2 Points)\n",
    "assert error_B is not None"
   ]
  },
  {
   "cell_type": "code",
   "execution_count": 30,
   "metadata": {
    "deletable": false,
    "editable": false,
    "nbgrader": {
     "cell_type": "code",
     "checksum": "e616060a18c001c49a51b517e9f8c9bb",
     "grade": true,
     "grade_id": "rule_A_B_C_test_C",
     "locked": true,
     "points": 2,
     "schema_version": 3,
     "solution": false,
     "task": false
    }
   },
   "outputs": [],
   "source": [
    "# (2 Points)\n",
    "assert error_C is not None"
   ]
  },
  {
   "cell_type": "code",
   "execution_count": 31,
   "metadata": {
    "deletable": false,
    "nbgrader": {
     "cell_type": "code",
     "checksum": "7384a432cd12d4fd8be152f2c3bf6150",
     "grade": false,
     "grade_id": "rule_D",
     "locked": false,
     "schema_version": 3,
     "solution": true,
     "task": false
    }
   },
   "outputs": [],
   "source": [
    "# Now we have to implement the NN classifier\n",
    "# Tipp: Use the distance function from exercise sheet 3! Or scipy cdist.\n",
    "from scipy.spatial.distance import cdist\n",
    "\n",
    "def nn_classifier(x_test, TS):\n",
    "    \"\"\"Nearest neighbor classifier for arbitrary training-set size.\n",
    "    Use vectorization (ideally).\n",
    "    \n",
    "    Args:\n",
    "        x_test (np.array): data to predict of shape (N,)\n",
    "        TS (np.array): Training dataset of shape (N,2) with (x,y) in the last dimension.\n",
    "    \n",
    "    Returns:\n",
    "        y_pred (np.array): Prediction of the NN classifier of shape (N,) with dtype=np.int\n",
    "    \"\"\"  \n",
    "    # YOUR CODE HERE\n",
    "    train = TS[:,0]\n",
    "    train_labels = TS[:, 1]\n",
    "\n",
    "    dist = cdist(x_test.reshape(-1,1), train.reshape(-1,1)) # N x M\n",
    "    dist_sorted = np.argmin(dist,axis=-1) # np.argsort(dist,axis=-1)[:,k] # for K-nearest neigbors would have used this\n",
    "    y_pred = train_labels[dist_sorted]\n",
    "    \n",
    "    return y_pred\n",
    "\n",
    "    \n",
    "dat_mult = [create_data(N=100000,seed=i) for i in range(5)] # For training\n",
    "test_mult = [create_data(N=100,seed=i+100) for i in range(5)] # For testing\n",
    "\n",
    "# please implementation the calculation in your solution\n",
    "# use the ErrorCount() function to determine the error rate\n",
    "error_NN = None\n",
    "error_NN_std = None\n",
    "\n",
    "# YOUR CODE HERE\n",
    "\n",
    "error_NN = [\n",
    "    ErrorCount(nn_classifier(test_mult[i][:,0], dat_mult[i]), test_mult[i][:,1]) for i in range(5)\n",
    "]\n",
    "error_NN_std = np.std(error_NN)\n",
    "error_NN = np.mean(error_NN)"
   ]
  },
  {
   "cell_type": "code",
   "execution_count": 32,
   "metadata": {
    "deletable": false,
    "editable": false,
    "nbgrader": {
     "cell_type": "code",
     "checksum": "0f76550be2c451852292c21d9eefbfd3",
     "grade": false,
     "grade_id": "cell-52f1aef336bb5f70",
     "locked": true,
     "schema_version": 3,
     "solution": false,
     "task": false
    }
   },
   "outputs": [
    {
     "name": "stdout",
     "output_type": "stream",
     "text": [
      "Error Rate D: 0.346 ± 0.034409301068170514\n"
     ]
    }
   ],
   "source": [
    "print(\"Error Rate D: {} ± {}\".format(error_NN,error_NN_std))"
   ]
  },
  {
   "cell_type": "code",
   "execution_count": 33,
   "metadata": {
    "deletable": false,
    "editable": false,
    "nbgrader": {
     "cell_type": "code",
     "checksum": "d9bd9e2ff407ac028b7d3ec5c10bee86",
     "grade": true,
     "grade_id": "rule_D_test",
     "locked": true,
     "points": 2,
     "schema_version": 3,
     "solution": false,
     "task": false
    }
   },
   "outputs": [],
   "source": [
    "# (2 Points)\n",
    "assert error_NN is not None\n",
    "assert error_NN_std is not None\n",
    "# Hidden test below\n",
    "# will check the value of error_NN and error_NN_std"
   ]
  },
  {
   "cell_type": "code",
   "execution_count": 34,
   "metadata": {
    "deletable": false,
    "editable": false,
    "nbgrader": {
     "cell_type": "code",
     "checksum": "3127b167b7c6164e9e983f9288bfa88d",
     "grade": true,
     "grade_id": "rule_D_test_NN",
     "locked": true,
     "points": 2,
     "schema_version": 3,
     "solution": false,
     "task": false
    }
   },
   "outputs": [],
   "source": [
    "# (2 Points)\n",
    "assert nn_classifier(np.array([[0.0]]), np.array([[0.0,0.0]])) is not None\n",
    "\n",
    "# Hidden test below\n",
    "# We will also test the function nn_classifier(x_test, TS)"
   ]
  },
  {
   "cell_type": "markdown",
   "metadata": {
    "deletable": false,
    "editable": false,
    "nbgrader": {
     "cell_type": "markdown",
     "checksum": "75f2ddd1b2de0e1a12643a392f4de291",
     "grade": false,
     "grade_id": "cell-ddb431ec02132cd9",
     "locked": true,
     "schema_version": 3,
     "solution": false,
     "task": false
    }
   },
   "source": [
    "Now, let's evaluate the error rate as a function of the dataset size and plot it.\n",
    "The datasets we are working on here are included in `dat_grid`. The size of the datasets are $50$, $100$, $1000$, $10000$ and $100000$, with each size contains $5$ datasets randomly generated by `create_data()`."
   ]
  },
  {
   "cell_type": "code",
   "execution_count": 47,
   "metadata": {},
   "outputs": [],
   "source": [
    "dat_grid = [[create_data(N=n,seed=i) for i in range(5)] for n in [50,100,1000,10000,100000]]"
   ]
  },
  {
   "cell_type": "markdown",
   "metadata": {
    "deletable": false,
    "editable": false,
    "nbgrader": {
     "cell_type": "markdown",
     "checksum": "27c3b7b6193a83db7736b0eaa3bfd473",
     "grade": false,
     "grade_id": "cell-889dd4f8faa44830",
     "locked": true,
     "schema_version": 3,
     "solution": false,
     "task": false
    }
   },
   "source": [
    "Please use `pred_A()`, `pred_B()`, `pred_C()` that you have already implemented earlier to classify the datasets and calculate means/standard deviations of the errors."
   ]
  },
  {
   "cell_type": "code",
   "execution_count": 73,
   "metadata": {
    "deletable": false,
    "nbgrader": {
     "cell_type": "code",
     "checksum": "ad23499216ef779ae1f02d66ca40c415",
     "grade": false,
     "grade_id": "error_vs_size_abc",
     "locked": false,
     "schema_version": 3,
     "solution": true,
     "task": false
    }
   },
   "outputs": [],
   "source": [
    "# Evaluate the error rate for the 3 rules as above with different sizes in dat_grid.\n",
    "# error_grid_a, error_grid_b, error_grid_c are mean values of prediction error rates.\n",
    "# error_grid_a_std, error_grid_b_std, error_grid_c_std are corresponding standard deviations.\n",
    "# Please finish the calculation with the ErrorCount(), pred_A(), pred_B(), and pred_C() functions in your solution.\n",
    "error_grid_a = None\n",
    "error_grid_a_std = None\n",
    "error_grid_b = None\n",
    "error_grid_b_std = None\n",
    "error_grid_c = None\n",
    "error_grid_c_std = None\n",
    "\n",
    "\n",
    "\n",
    "# YOUR CODE HERE\n",
    "error_grid_a = [[ErrorCount(pred_A(dat_grid[n][i][:,0], 0.5), dat_grid[n][i][:,1]) for i in range(5)] for n in range(5)]\n",
    "error_grid_a_std = np.std(error_grid_a, axis=1)\n",
    "error_grid_a = np.mean(error_grid_a, axis=1)\n",
    "\n",
    "error_grid_b = [[ErrorCount(pred_B(dat_grid[n][i][:,0]), dat_grid[n][i][:,1]) for i in range(5)] for n in range(5)]\n",
    "error_grid_b_std = np.std(error_grid_b, axis=1)\n",
    "error_grid_b = np.mean(error_grid_b, axis=1)\n",
    "\n",
    "error_grid_c = [[ErrorCount(pred_C(dat_grid[n][i][:,0]), dat_grid[n][i][:,1]) for i in range(5)] for n in range(5)]\n",
    "error_grid_c_std = np.std(error_grid_c, axis=1)\n",
    "error_grid_c = np.mean(error_grid_c, axis=1)"
   ]
  },
  {
   "cell_type": "code",
   "execution_count": 78,
   "metadata": {
    "deletable": false,
    "editable": false,
    "nbgrader": {
     "cell_type": "code",
     "checksum": "be7004c81ccedca790ae7e3be5615705",
     "grade": true,
     "grade_id": "error_vs_size_abc_test",
     "locked": true,
     "points": 2,
     "schema_version": 3,
     "solution": false,
     "task": false
    }
   },
   "outputs": [],
   "source": [
    "# (2 points)\n",
    "assert len(error_grid_a) == 5 and len(error_grid_b_std) == 5\n",
    "\n",
    "# Hidden tests below\n",
    "# Values of means/standard deviations of errors will be tested"
   ]
  },
  {
   "cell_type": "markdown",
   "metadata": {
    "deletable": false,
    "editable": false,
    "nbgrader": {
     "cell_type": "markdown",
     "checksum": "9f27d5445c8b577d6b36e8a202db4e5e",
     "grade": false,
     "grade_id": "cell-a91c729e1d0f8766",
     "locked": true,
     "schema_version": 3,
     "solution": false,
     "task": false
    }
   },
   "source": [
    "For Nearest Neighbour classifier, we will use `dat_grid` as training sets and generate test sets as `test_grid_nn`. The size of the test sets are $5$, $10$, $100$, $100$, $1000$ with each size consists of $5$ datasets."
   ]
  },
  {
   "cell_type": "code",
   "execution_count": 79,
   "metadata": {
    "deletable": false,
    "nbgrader": {
     "cell_type": "code",
     "checksum": "30d658e63ecab47c13c24b71fbf0a6a4",
     "grade": false,
     "grade_id": "error_vs_size_d",
     "locked": false,
     "schema_version": 3,
     "solution": true,
     "task": false
    }
   },
   "outputs": [],
   "source": [
    "# for nearest neighbour simply pick the separate test_grid_nn\n",
    "test_grid_nn = [[create_data(N=n,seed=i+100) for i in range(5)] for n in [5,10,100,100,1000]]\n",
    "\n",
    "# Evaluate the error rate for the Nearest Neighbour classifier trained with dat_grid and tested on test_grid_nn.\n",
    "# error_grid_d contains mean values of prediction error rates.\n",
    "# error_grid_d_std contains corresponding standard deviations.\n",
    "# Please finish the calculation with the ErrorCount() and nn_classifier() functions in your solution.\n",
    "error_grid_d = None\n",
    "error_grid_d_std = None\n",
    "\n",
    "# YOUR CODE HERE\n",
    "error_grid_d = [[ErrorCount(nn_classifier(test_grid_nn[n][i][:,0], dat_grid[n][i]), test_grid_nn[n][i][:,1]) for i in range(5)] for n in range(5)]\n",
    "error_grid_d_std = np.std(error_grid_d, axis=1)\n",
    "error_grid_d = np.mean(error_grid_d, axis=1)"
   ]
  },
  {
   "cell_type": "code",
   "execution_count": 80,
   "metadata": {
    "deletable": false,
    "editable": false,
    "nbgrader": {
     "cell_type": "code",
     "checksum": "4e0c21f3ba790657bd21ab0831bf9bd8",
     "grade": true,
     "grade_id": "error_vs_size_d_test",
     "locked": true,
     "points": 1,
     "schema_version": 3,
     "solution": false,
     "task": false
    }
   },
   "outputs": [],
   "source": [
    "# (1 point)\n",
    "assert len(error_grid_d) == 5 and len(error_grid_d_std) == 5\n",
    "\n",
    "# Hidden tests below\n",
    "# Values of means/standard deviations of errors will be tested"
   ]
  },
  {
   "cell_type": "code",
   "execution_count": 81,
   "metadata": {},
   "outputs": [
    {
     "data": {
      "image/png": "[encoded data removed]",
      "text/plain": [
       "<Figure size 432x288 with 1 Axes>"
      ]
     },
     "metadata": {
      "needs_background": "light"
     },
     "output_type": "display_data"
    }
   ],
   "source": [
    "#Plot results\n",
    "plt.figure()\n",
    "plt.title(r'Error rate for rule A, B, C, D')\n",
    "# plt.errorbar\n",
    "sampling = np.array([n for n in [50,100,1000,10000,100000]])\n",
    "plt.errorbar(sampling,np.array(error_grid_a), yerr=np.array(error_grid_a_std),label=\"A\")\n",
    "plt.errorbar(sampling,np.array(error_grid_b), yerr=np.array(error_grid_b_std),label=\"B\")\n",
    "plt.errorbar(sampling,np.array(error_grid_c), yerr=np.array(error_grid_c_std),label=\"C\")\n",
    "plt.errorbar(sampling,np.array(error_grid_d), yerr=np.array(error_grid_d_std),label=\"D\")\n",
    "plt.ylabel('error rate')\n",
    "plt.legend(loc=\"upper right\")\n",
    "plt.xscale('log')"
   ]
  },
  {
   "cell_type": "markdown",
   "metadata": {
    "deletable": false,
    "editable": false,
    "nbgrader": {
     "cell_type": "markdown",
     "checksum": "73978fad95a68d91934fedda2e8d402e",
     "grade": false,
     "grade_id": "cell-fbba3c389a6f05b4",
     "locked": true,
     "schema_version": 3,
     "solution": false,
     "task": false
    }
   },
   "source": [
    "Congragulation! You have finished this exercise. I hope it is helpful to understand lecture content. Don't forget to participate the exercise survey and thanks again for your work!"
   ]
  },
  {
   "cell_type": "code",
   "execution_count": null,
   "metadata": {},
   "outputs": [],
   "source": []
  }
 ],
 "metadata": {
  "kernelspec": {
   "display_name": "Python 3 (ipykernel)",
   "language": "python",
   "name": "python3"
  },
  "language_info": {
   "codemirror_mode": {
    "name": "ipython",
    "version": 3
   },
   "file_extension": ".py",
   "mimetype": "text/x-python",
   "name": "python",
   "nbconvert_exporter": "python",
   "pygments_lexer": "ipython3",
   "version": "3.9.12"
  }
 },
 "nbformat": 4,
 "nbformat_minor": 4
}
