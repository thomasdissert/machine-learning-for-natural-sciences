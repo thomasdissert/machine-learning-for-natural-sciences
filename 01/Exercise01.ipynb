{
 "cells": [
  {
   "cell_type": "markdown",
   "metadata": {
    "pycharm": {
     "name": "#%% md\n"
    }
   },
   "source": [
    "# Exercise Sheet No. 1\n",
    "\n",
    "---\n",
    "\n",
    "> Machine Learning for Natural Sciences, Summer 2022, Jun.-Prof. Pascal Friederich, pascal.friederich@kit.edu\n",
    "> \n",
    "> Deadline: 25.04.2022, 8am\n",
    "\n",
    "---\n",
    "\n",
    "**Topic**: This exercise sheet will not be graded and serves as an introduction to explain the online exercise regulations and to help you to familiarize yourself with Python, Jupyter and numpy. The exercises in this sheet are meant as an appetizer to show you what future exercises could cover. "
   ]
  },
  {
   "cell_type": "markdown",
   "metadata": {
    "pycharm": {
     "name": "#%% md\n"
    }
   },
   "source": [
    "## Preliminaries\n",
    "If you are not familiar with Python, you may want to learn more about Python and its basic syntax. Since there are a lof of free and well written tutorials online, we refer you to one of the following online tutorials:\n",
    "\n",
    "* http://www.datacamp.com/community/tutorials/tutorial-jupyter-notebook\n",
    "* https://www.learnpython.org/\n",
    "* https://www.w3schools.com/python/\n",
    "* https://automatetheboringstuff.com/"
   ]
  },
  {
   "cell_type": "markdown",
   "metadata": {
    "pycharm": {
     "name": "#%% md\n"
    }
   },
   "source": [
    "## 1.1 Corona (not graded)\n",
    "\n",
    "*Disclaimer*: If you are in any way personnally affected by the Corona crisis, you do not have to participate in this exercise. It will not be graded or is necessary for the progress of this course. \n",
    "\n",
    "To get to know Python's data science workflows, we briefly analyze the current corona epidemic. First download a historical dataset on the corona infections worldwide from the European Centre for Disease Prevention and Control in 2020 ([link](https://www.ecdc.europa.eu/sites/default/files/documents/COVID-19-geographic-disbtribution-worldwide.xlsx)). We can do this in Python via the ``requests`` package. "
   ]
  },
  {
   "cell_type": "code",
   "execution_count": 151,
   "metadata": {
    "pycharm": {
     "name": "#%%\n"
    }
   },
   "outputs": [],
   "source": [
    "import os\n",
    "\n",
    "import requests\n",
    "\n",
    "data_url = \"https://www.ecdc.europa.eu/sites/default/files/documents/COVID-19-geographic-disbtribution-worldwide.xlsx\"\n",
    "data_file = \"COVID-19-geographic-disbtribution-worldwide.xlsx\"\n",
    "if not os.path.exists(data_file):\n",
    "    print(\"Downloading dataset ...\")\n",
    "    with open(data_file, \"wb\") as f:\n",
    "        f.write(requests.get(data_url).content)\n",
    "    print(\"Downloading dataset done.\")"
   ]
  },
  {
   "cell_type": "markdown",
   "metadata": {
    "pycharm": {
     "name": "#%% md\n"
    }
   },
   "source": [
    "Now, we load the dataset via the data library ``pandas``, which will return a ``DataFrame`` object. We print the head of the table with ``.head()``:"
   ]
  },
  {
   "cell_type": "code",
   "execution_count": 152,
   "metadata": {
    "pycharm": {
     "name": "#%%\n"
    }
   },
   "outputs": [
    {
     "data": {
      "text/html": [
       "<div>\n",
       "<style scoped>\n",
       "    .dataframe tbody tr th:only-of-type {\n",
       "        vertical-align: middle;\n",
       "    }\n",
       "\n",
       "    .dataframe tbody tr th {\n",
       "        vertical-align: top;\n",
       "    }\n",
       "\n",
       "    .dataframe thead th {\n",
       "        text-align: right;\n",
       "    }\n",
       "</style>\n",
       "<table border=\"1\" class=\"dataframe\">\n",
       "  <thead>\n",
       "    <tr style=\"text-align: right;\">\n",
       "      <th></th>\n",
       "      <th>dateRep</th>\n",
       "      <th>day</th>\n",
       "      <th>month</th>\n",
       "      <th>year</th>\n",
       "      <th>cases</th>\n",
       "      <th>deaths</th>\n",
       "      <th>countriesAndTerritories</th>\n",
       "      <th>geoId</th>\n",
       "      <th>countryterritoryCode</th>\n",
       "      <th>popData2019</th>\n",
       "      <th>continentExp</th>\n",
       "      <th>Cumulative_number_for_14_days_of_COVID-19_cases_per_100000</th>\n",
       "    </tr>\n",
       "  </thead>\n",
       "  <tbody>\n",
       "    <tr>\n",
       "      <th>0</th>\n",
       "      <td>2020-12-14</td>\n",
       "      <td>14</td>\n",
       "      <td>12</td>\n",
       "      <td>2020</td>\n",
       "      <td>746</td>\n",
       "      <td>6</td>\n",
       "      <td>Afghanistan</td>\n",
       "      <td>AF</td>\n",
       "      <td>AFG</td>\n",
       "      <td>38041757.0</td>\n",
       "      <td>Asia</td>\n",
       "      <td>9.013779</td>\n",
       "    </tr>\n",
       "    <tr>\n",
       "      <th>1</th>\n",
       "      <td>2020-12-13</td>\n",
       "      <td>13</td>\n",
       "      <td>12</td>\n",
       "      <td>2020</td>\n",
       "      <td>298</td>\n",
       "      <td>9</td>\n",
       "      <td>Afghanistan</td>\n",
       "      <td>AF</td>\n",
       "      <td>AFG</td>\n",
       "      <td>38041757.0</td>\n",
       "      <td>Asia</td>\n",
       "      <td>7.052776</td>\n",
       "    </tr>\n",
       "    <tr>\n",
       "      <th>2</th>\n",
       "      <td>2020-12-12</td>\n",
       "      <td>12</td>\n",
       "      <td>12</td>\n",
       "      <td>2020</td>\n",
       "      <td>113</td>\n",
       "      <td>11</td>\n",
       "      <td>Afghanistan</td>\n",
       "      <td>AF</td>\n",
       "      <td>AFG</td>\n",
       "      <td>38041757.0</td>\n",
       "      <td>Asia</td>\n",
       "      <td>6.868768</td>\n",
       "    </tr>\n",
       "    <tr>\n",
       "      <th>3</th>\n",
       "      <td>2020-12-11</td>\n",
       "      <td>11</td>\n",
       "      <td>12</td>\n",
       "      <td>2020</td>\n",
       "      <td>63</td>\n",
       "      <td>10</td>\n",
       "      <td>Afghanistan</td>\n",
       "      <td>AF</td>\n",
       "      <td>AFG</td>\n",
       "      <td>38041757.0</td>\n",
       "      <td>Asia</td>\n",
       "      <td>7.134266</td>\n",
       "    </tr>\n",
       "    <tr>\n",
       "      <th>4</th>\n",
       "      <td>2020-12-10</td>\n",
       "      <td>10</td>\n",
       "      <td>12</td>\n",
       "      <td>2020</td>\n",
       "      <td>202</td>\n",
       "      <td>16</td>\n",
       "      <td>Afghanistan</td>\n",
       "      <td>AF</td>\n",
       "      <td>AFG</td>\n",
       "      <td>38041757.0</td>\n",
       "      <td>Asia</td>\n",
       "      <td>6.968658</td>\n",
       "    </tr>\n",
       "  </tbody>\n",
       "</table>\n",
       "</div>"
      ],
      "text/plain": [
       "     dateRep  day  month  year  cases  deaths countriesAndTerritories geoId  \\\n",
       "0 2020-12-14   14     12  2020    746       6             Afghanistan    AF   \n",
       "1 2020-12-13   13     12  2020    298       9             Afghanistan    AF   \n",
       "2 2020-12-12   12     12  2020    113      11             Afghanistan    AF   \n",
       "3 2020-12-11   11     12  2020     63      10             Afghanistan    AF   \n",
       "4 2020-12-10   10     12  2020    202      16             Afghanistan    AF   \n",
       "\n",
       "  countryterritoryCode  popData2019 continentExp  \\\n",
       "0                  AFG   38041757.0         Asia   \n",
       "1                  AFG   38041757.0         Asia   \n",
       "2                  AFG   38041757.0         Asia   \n",
       "3                  AFG   38041757.0         Asia   \n",
       "4                  AFG   38041757.0         Asia   \n",
       "\n",
       "   Cumulative_number_for_14_days_of_COVID-19_cases_per_100000  \n",
       "0                                           9.013779           \n",
       "1                                           7.052776           \n",
       "2                                           6.868768           \n",
       "3                                           7.134266           \n",
       "4                                           6.968658           "
      ]
     },
     "execution_count": 152,
     "metadata": {},
     "output_type": "execute_result"
    }
   ],
   "source": [
    "import pandas as pd\n",
    "import numpy as np\n",
    "\n",
    "corona_world = pd.read_excel(data_file)\n",
    "corona_world.head()"
   ]
  },
  {
   "cell_type": "markdown",
   "metadata": {
    "pycharm": {
     "name": "#%% md\n"
    }
   },
   "source": [
    "The ``DataFrame`` allows access via index and columns. Basic Python operators ``[]`` and ``.`` are supported. (Warning) Whether a copy or a reference is returned for a setting operation, may depend on the context."
   ]
  },
  {
   "cell_type": "code",
   "execution_count": 153,
   "metadata": {
    "pycharm": {
     "name": "#%%\n"
    }
   },
   "outputs": [
    {
     "name": "stdout",
     "output_type": "stream",
     "text": [
      "RangeIndex(start=0, stop=61900, step=1)\n",
      "Index(['dateRep', 'day', 'month', 'year', 'cases', 'deaths',\n",
      "       'countriesAndTerritories', 'geoId', 'countryterritoryCode',\n",
      "       'popData2019', 'continentExp',\n",
      "       'Cumulative_number_for_14_days_of_COVID-19_cases_per_100000'],\n",
      "      dtype='object')\n"
     ]
    }
   ],
   "source": [
    "print(corona_world.index)\n",
    "print(corona_world.columns)"
   ]
  },
  {
   "cell_type": "markdown",
   "metadata": {
    "pycharm": {
     "name": "#%% md\n"
    }
   },
   "source": [
    "Now we will select a column, namely ``corona_world['countriesAndTerritories']`` and then select the indices where we find ``\"Germany\"`` via ``corona_countries=='Germany'`` not by numbers but by a boolean array. We can also do multi-indexing via a list ``[[\"dateRep\", \"Cumulative_number_for_14_days_of_COVID-19_cases_per_100000\"]]``. The values for the sub-frame ``corona_germany`` is obtained by either ``.values`` or ``.to_numpy``. Note that usually you will use a pandas ``DataFrame`` by the operators ``.iloc`` and ``.loc`` for index- and name-wise access of a group of rows and columns. They furthermore enable slicing. For convenience we flip the final data so that they start from the past going forward."
   ]
  },
  {
   "cell_type": "code",
   "execution_count": 154,
   "metadata": {
    "pycharm": {
     "name": "#%%\n"
    }
   },
   "outputs": [],
   "source": [
    "# Select data\n",
    "corona_countries = corona_world['countriesAndTerritories']\n",
    "corona_germany = corona_world[corona_countries == 'Germany']\n",
    "corona_germany = corona_germany[[\"dateRep\", \"cases\",\n",
    "                                 \"deaths\", \"Cumulative_number_for_14_days_of_COVID-19_cases_per_100000\"]]\n",
    "time_germany = corona_germany[\"dateRep\"].values\n",
    "cc_germany = corona_germany[\"Cumulative_number_for_14_days_of_COVID-19_cases_per_100000\"].to_numpy()\n",
    "time_germany = np.flip(time_germany)\n",
    "cc_germany = np.flip(cc_germany)"
   ]
  },
  {
   "cell_type": "markdown",
   "metadata": {
    "pycharm": {
     "name": "#%% md\n"
    }
   },
   "source": [
    "To visualize the data, we examplary plot the number of 14 days cumulative cases as a function of time for Germany. For this purpose we use ``matplotlib.pyplot`` plotting tool. You can find a nice user guide with examples [here](https://matplotlib.org/stable/tutorials/introductory/usage.html#sphx-glr-tutorials-introductory-usage-py). We will use ``matplotlib`` very often in the next exercises."
   ]
  },
  {
   "cell_type": "code",
   "execution_count": 155,
   "metadata": {
    "pycharm": {
     "name": "#%%\n"
    }
   },
   "outputs": [
    {
     "data": {
      "image/png": "[encoded data removed]",
      "text/plain": [
       "<Figure size 432x288 with 1 Axes>"
      ]
     },
     "metadata": {
      "needs_background": "light"
     },
     "output_type": "display_data"
    }
   ],
   "source": [
    "import matplotlib.pyplot as plt\n",
    "import matplotlib.dates as mdates\n",
    "\n",
    "# Date functionality\n",
    "months = mdates.MonthLocator()  # every month\n",
    "# Make plot\n",
    "fig, ax = plt.subplots()  # generate a new plot\n",
    "ax.plot(time_germany, cc_germany)  # plot data\n",
    "ax.xaxis.set_major_locator(months)  # modify axis\n",
    "fig.autofmt_xdate()\n",
    "plt.grid(True, 'both')\n",
    "plt.title(\"Germany\")\n",
    "plt.ylabel('14 days cases per 100k')\n",
    "plt.xlabel('Time [months]')\n",
    "plt.show()  # make plot"
   ]
  },
  {
   "cell_type": "markdown",
   "metadata": {
    "pycharm": {
     "name": "#%% md\n"
    }
   },
   "source": [
    "Now its time for you to answer the following questions, while using either pandas dataframes or convert to numpy and Python objects. Note: Looping through large Python lists can be very slow as Python is an interpreted programming language, which is why, typically built-in functionality of ``numpy`` and ``pandas`` is preferred. Have a look at the documentation of [numpy](https://numpy.org/doc/) and [pandas](https://pandas.pydata.org/docs/getting_started/index.html#getting-started), if you want to know more. We will work with [numpy](https://numpy.org/doc/) methods in the next exercises in more detail.\n",
    "\n",
    "**1.1.1** List the number of the deceased in connection with Covid 19 relative to the population for each country for 2020. What can you say about the mortality rate? Which country has the highest and which has the lowest mortality rate? To do this you first have to obtain the information of population per country for example in a python ``dict``. You may want to use the following pandas methods (if you dont know them, look them up at [pandas](https://pandas.pydata.org/docs/getting_started/index.html#getting-started)): ``.unique``, ``.groupby``, ``.mean``, ``.sum``, ``.sort_values``, ``.get_group`` and ``.from_dict``:"
   ]
  },
  {
   "cell_type": "code",
   "execution_count": 156,
   "metadata": {
    "deletable": false,
    "nbgrader": {
     "cell_type": "code",
     "checksum": "8c7139e68c33abdc31fd7090085110a3",
     "grade": false,
     "grade_id": "death_corona",
     "locked": false,
     "schema_version": 3,
     "solution": true,
     "task": false
    },
    "pycharm": {
     "name": "#%%\n"
    }
   },
   "outputs": [],
   "source": [
    "countries = []\n",
    "population = {}\n",
    "deaths = {}\n",
    "rel_deaths = {}\n",
    "country_max_mortality = \"\"\n",
    "# YOUR CODE HERE\n",
    "countries = pd.unique(corona_world['countriesAndTerritories'])\n",
    "corona_countries = corona_world['countriesAndTerritories']\n",
    "\n",
    "for country in countries:\n",
    "    country_data = corona_world[corona_countries == country]\n",
    "    deaths[country] = country_data[\"deaths\"].sum()\n",
    "    population[country] = country_data[\"popData2019\"].max()\n",
    "    \n",
    "    rel_deaths[country] = deaths[country]/population[country]\n",
    "    \n",
    "rel_deaths_df = pd.DataFrame.from_dict(rel_deaths, orient='index', columns=['A'])\n",
    "country_max_mortality = rel_deaths_df.sort_values(by=['A'], ascending=False).index[0]"
   ]
  },
  {
   "cell_type": "markdown",
   "metadata": {
    "pycharm": {
     "name": "#%% md\n"
    }
   },
   "source": [
    "**1.1.2** Plot the cumulative number of cases, deceased and number of recoverd patients for Germany. Make sure that the data has the correct order for a cummulative sum. You can either again write your own function or simply use ``np.cumsum`` to compute the cumulative sum of the number of cases and deaths in Germany."
   ]
  },
  {
   "cell_type": "code",
   "execution_count": 157,
   "metadata": {
    "deletable": false,
    "nbgrader": {
     "cell_type": "code",
     "checksum": "248ec78d63f279595d18541aceed088a",
     "grade": false,
     "grade_id": "cum_corona",
     "locked": false,
     "schema_version": 3,
     "solution": true,
     "task": false
    },
    "pycharm": {
     "name": "#%%\n"
    }
   },
   "outputs": [
    {
     "data": {
      "image/png": "[encoded data removed]",
      "text/plain": [
       "<Figure size 432x288 with 1 Axes>"
      ]
     },
     "metadata": {
      "needs_background": "light"
     },
     "output_type": "display_data"
    }
   ],
   "source": [
    "cum_death = np.array([])\n",
    "cum_cases = np.array([])\n",
    "# YOUR CODE HERE\n",
    "germany_data = corona_world[corona_countries == 'Germany']\n",
    "germany_data_sorted = germany_data.sort_values(by=['dateRep'])\n",
    "germany_death_and_cases_per_day = germany_data_sorted[['deaths', 'cases']]\n",
    "cum_death_and_cases = np.cumsum(germany_death_and_cases_per_day)\n",
    "cum_death = np.array(cum_death_and_cases['deaths'].tolist())\n",
    "cum_cases = np.array(cum_death_and_cases['cases'].tolist())\n",
    "\n",
    "cum_recovered = np.subtract(cum_cases, cum_death)\n",
    "\n",
    "# Date functionality\n",
    "months = mdates.MonthLocator()  # every month\n",
    "# Make plot\n",
    "fig, ax1 = plt.subplots()  # generate a new plot\n",
    "ax1.set_xlabel('Day')\n",
    "color=\"tab:red\"\n",
    "ax1.set_ylabel('Cumulative deaths', color=color)\n",
    "ax1.plot(cum_death, color=color)  # plot data\n",
    "color=\"tab:orange\"\n",
    "ax1.plot(cum_cases, color=color)  # plot data\n",
    "color=\"tab:green\"\n",
    "ax1.plot(cum_recovered, color=color)  # plot data\n",
    "\n",
    "#ax2 = ax1.twinx()  # generate a new plot\n",
    "#ax2.set_xlabel('Day')\n",
    "#color=\"tab:orange\"\n",
    "#ax2.set_ylabel('Cumulative cases', color=color)\n",
    "#ax2.plot(cum_cases, color=color)  # plot data\n",
    "\n",
    "#ax3 = ax1.twinx()  # generate a new plot\n",
    "#ax3.set_xlabel('Day')\n",
    "#color=\"tab:green\"\n",
    "#ax3.set_ylabel('Cumulative recovered', color=color)\n",
    "#ax3.plot(cum_recovered, color=color)  # plot data\n",
    "\n",
    "fig.autofmt_xdate()\n",
    "plt.grid(True, 'both')\n",
    "plt.title(\"Germany\")\n",
    "plt.show()  # make plot"
   ]
  },
  {
   "cell_type": "markdown",
   "metadata": {
    "pycharm": {
     "name": "#%% md\n"
    }
   },
   "source": [
    "There has been a discussion in Germany whether the 'second wave' of infections in the end of 2020 was underestimated by many political leaders. The chancellor of Germany, Angela Merkel and her team, warned the ministers and the public of a dire development in the beginning of october. In fact, the large increase of infections before christmas turned out to be very serious, even with counter-measures. We want to see in the next task, if we can correctly predict the development.\n",
    "\n",
    "**1.1.3** First we select the data from the plot above between 01.08.2020 and 01.10.2020. Note that we are using numpy arrays with number type ``dtype='datetime64[ns]'``. We can use the package ``datetime`` and its class ``datetime`` for human-readable dates, that can be freely converted into strings, seconds or via ``np.datetime64()`` into numpy's ``dtype='datetime64[ns]'``. We have to select the correct time-period and divide by the delta of ``np.timedelta64(1,'D')`` that corresponds to one day. Finally we end up with an array counting the days with from 01.08.2020 onwards."
   ]
  },
  {
   "cell_type": "code",
   "execution_count": 158,
   "metadata": {
    "pycharm": {
     "name": "#%%\n"
    }
   },
   "outputs": [],
   "source": [
    "# Select dates\n",
    "from datetime import datetime\n",
    "\n",
    "date_start = datetime(2020, 8, 1)\n",
    "date_stop = datetime(2020, 10, 1)\n",
    "selection = np.logical_and(time_germany >= np.datetime64(date_start),\n",
    "                           time_germany < np.datetime64(date_stop))\n",
    "\n",
    "# Select training data\n",
    "x_cases = np.array(time_germany[selection] - np.datetime64(date_start)) / np.timedelta64(1, 'D')\n",
    "y_cases = np.array(cc_germany)[selection]\n",
    "x_test = time_germany[time_germany >= np.datetime64(date_start)]\n",
    "x_test_days = (x_test - np.datetime64(date_start)) / np.timedelta64(1, 'D')"
   ]
  },
  {
   "cell_type": "markdown",
   "metadata": {
    "pycharm": {
     "name": "#%% md\n"
    }
   },
   "source": [
    "Try to fit the data with analytical expressions using for example ``scipy.optimize.curve_fit``. If the fit does not work, try setting bounds and initial guesses. Try the following relations, with some initial guess for the free parameters $(a,b,\\dots)$. First implement the functions in python with the help of ``numpy`` or ``scipy`` methods like: ``np.square``, ``np.exp``, ``np.power``.\n",
    "\n",
    "* $f_1(x)= ax+b$\n",
    "* $f_2(x)= c e^{a (x-b)}$\n",
    "* $f_3(x)= a x^2 + b x + c$\n",
    "* $f_4(x)= a x^3 + b x^2 + cx + d$\n",
    "* $\\dots$"
   ]
  },
  {
   "cell_type": "code",
   "execution_count": 159,
   "metadata": {
    "deletable": false,
    "nbgrader": {
     "cell_type": "code",
     "checksum": "deb03a3fb64e7f80a5f678ffb9a8caf1",
     "grade": false,
     "grade_id": "func_implement",
     "locked": false,
     "schema_version": 3,
     "solution": true,
     "task": false
    },
    "pycharm": {
     "name": "#%%\n"
    }
   },
   "outputs": [],
   "source": [
    "# Implement functions.\n",
    "def fun_1(x, a, b):\n",
    "    return a * x + b\n",
    "\n",
    "\n",
    "def fun_2(x, a, b, c):\n",
    "    return c * np.exp(a*(x-b))\n",
    "\n",
    "\n",
    "def fun_3(x, a, b, c):\n",
    "    return a*np.square(x) + b*x +c\n",
    "\n",
    "\n",
    "def fun_4(x, a, b, c, d):\n",
    "    return a*np.power(x, 3)+b*np.square(x)+c*x+d\n",
    "\n",
    "\n",
    "# Try your own function if you want\n"
   ]
  },
  {
   "cell_type": "code",
   "execution_count": 160,
   "metadata": {
    "deletable": false,
    "nbgrader": {
     "cell_type": "code",
     "checksum": "22de2a4be0944356d0a4495b1228751b",
     "grade": false,
     "grade_id": "func_test",
     "locked": false,
     "schema_version": 3,
     "solution": true,
     "task": false
    },
    "pycharm": {
     "name": "#%%\n"
    }
   },
   "outputs": [
    {
     "data": {
      "image/png": "[encoded data removed]",
      "text/plain": [
       "<Figure size 432x288 with 1 Axes>"
      ]
     },
     "metadata": {
      "needs_background": "light"
     },
     "output_type": "display_data"
    }
   ],
   "source": [
    "import scipy.optimize\n",
    "import datetime\n",
    "\n",
    "param_1, _ = scipy.optimize.curve_fit(fun_1, x_cases, y_cases, p0 = [100,200])\n",
    "param_2, _ = scipy.optimize.curve_fit(fun_2, x_cases, y_cases, p0 = [1,2,3])\n",
    "param_3, _ = scipy.optimize.curve_fit(fun_3, x_cases, y_cases, p0 = [1,2,3])\n",
    "param_4, _ = scipy.optimize.curve_fit(fun_4, x_cases, y_cases, bounds = ([-10,-10,-np.inf,-np.inf], [10,10,np.inf,np.inf]))\n",
    "y_fit_1 = fun_1(x_test_days, *param_1)\n",
    "y_fit_2 = fun_2(x_test_days, *param_2)\n",
    "y_fit_3 = fun_3(x_test_days, *param_3)\n",
    "y_fit_4 = fun_4(x_test_days, *param_4)\n",
    "\n",
    "fig, ax = plt.subplots()  # generate a new plot\n",
    "ax.plot(time_germany, cc_germany)  # plot data\n",
    "ax.plot(x_test, y_fit_1, label=\"f1\")  # plot data\n",
    "ax.plot(x_test, y_fit_2, label=\"f2\")  # plot data\n",
    "ax.plot(x_test, y_fit_3, label=\"f3\")  # plot data\n",
    "ax.plot(x_test, y_fit_4, label=\"f4\")  # plot data\n",
    "ax.xaxis.set_major_locator(months)  # modify axis\n",
    "#ax.set_xlim([datetime.date(2020, 9, 1), datetime.date(2020, 11, 1)])\n",
    "fig.autofmt_xdate()\n",
    "plt.grid(True, 'both')\n",
    "plt.ylim([-20, 370])\n",
    "#plt.ylim([20, 100])\n",
    "plt.legend()\n",
    "plt.title(\"Germany\")\n",
    "plt.ylabel('Total cases')\n",
    "plt.xlabel('Time [months]')\n",
    "plt.show()  # make plot"
   ]
  },
  {
   "cell_type": "markdown",
   "metadata": {
    "pycharm": {
     "name": "#%% md\n"
    }
   },
   "source": [
    "Which function extrapolates best to the subsequent development starting from 01.10.2020 to the end of the year? Can you quantify? Does this change if you only fit to the last 14 days from 17.09.2020 to the 01.10.2020? Which is the best function for 14 days extrapolation. Can you explain?"
   ]
  },
  {
   "cell_type": "code",
   "execution_count": 161,
   "metadata": {
    "deletable": false,
    "nbgrader": {
     "cell_type": "code",
     "checksum": "d7e41191a69c3f80325b70c09763c877",
     "grade": false,
     "grade_id": "extra_answer",
     "locked": false,
     "schema_version": 3,
     "solution": true,
     "task": false
    },
    "pycharm": {
     "name": "#%%\n"
    }
   },
   "outputs": [],
   "source": [
    "answer_best_fun = 4  # number of best function (int)\n",
    "answer_change_14_days = True  # Does it change, answer with 'True' or 'False' (bool)\n",
    "answer_best_fun_14_days = 3  # best function within 14 days fit (int)\n",
    "answer_explanation = \"It changes because of \"  # Answer as string in free text."
   ]
  },
  {
   "cell_type": "markdown",
   "metadata": {
    "pycharm": {
     "name": "#%% md\n"
    }
   },
   "source": [
    "**1.1.4** Finally, let us also try some machine learning to fit the data. You don't need to understand the code in detail, yet. We fit a small Neural network on the time series prediction. We will have the neural network train on 14 previous days to predict the change of infections for the next day in the time periode between 01.08.2020 and 01.10.2020. And then to predict the next days from 01.10.2020 onward. This is by far not a sophisticated model. We will learn more methods in the lectures."
   ]
  },
  {
   "cell_type": "code",
   "execution_count": 162,
   "metadata": {
    "pycharm": {
     "name": "#%%\n"
    }
   },
   "outputs": [],
   "source": [
    "\n",
    "from sklearn.neural_network import MLPRegressor\n",
    "\n",
    "# Prepare and run training\n",
    "step_size = 14\n",
    "x_train = np.array([y_cases[i:i + step_size] for i in range(len(x_cases) - step_size)])\n",
    "y_train = np.array([y_cases[step_size + i] - y_cases[step_size + i - 1] for i in range(len(x_cases) - step_size)])\n",
    "nn = MLPRegressor(hidden_layer_sizes=(100, 100), random_state=1, max_iter=500).fit(x_train, y_train)\n",
    "\n",
    "# Predict the time-series\n",
    "y_test = y_cases[-step_size:]\n",
    "y_val = y_cases[:step_size]\n",
    "days_to_predict = 30\n",
    "for _ in range(days_to_predict):\n",
    "    next_step = nn.predict(np.expand_dims(y_test[-step_size:], axis=0)) + y_test[-1]\n",
    "    y_test = np.concatenate([y_test, next_step], axis=0)\n",
    "    next_step = nn.predict(np.expand_dims(y_val[-step_size:], axis=0)) + y_val[-1]\n",
    "    y_val = np.concatenate([y_val, next_step], axis=0)\n",
    "\n",
    "# Make time values for y_val and y_test\n",
    "x_test = np.arange(-step_size, days_to_predict) * np.timedelta64(1, 'D') + np.datetime64(date_stop)\n",
    "x_val = np.arange(0, days_to_predict + step_size) * np.timedelta64(1, 'D') + np.datetime64(date_start)"
   ]
  },
  {
   "cell_type": "markdown",
   "metadata": {
    "pycharm": {
     "name": "#%% md\n"
    }
   },
   "source": [
    "Plot the corona infections and evaluate the predictions for ``x_test``, ``x_val`` and ``y_test``, ``y_val`` with the ground truth. You can play around with the hyperparameters (parameters not optimized in training but used to control the learning process) and see how the result changes. What are problems and how would you improve the Machine Learning model?"
   ]
  },
  {
   "cell_type": "code",
   "execution_count": 163,
   "metadata": {
    "deletable": false,
    "nbgrader": {
     "cell_type": "code",
     "checksum": "fd742102f2ef832a71ad60fa41ee9305",
     "grade": false,
     "grade_id": "answer_NN",
     "locked": false,
     "schema_version": 3,
     "solution": true,
     "task": false
    },
    "pycharm": {
     "name": "#%%\n"
    }
   },
   "outputs": [],
   "source": [
    "answer_nn = \"\""
   ]
  },
  {
   "cell_type": "code",
   "execution_count": 164,
   "metadata": {
    "deletable": false,
    "editable": false,
    "nbgrader": {
     "cell_type": "code",
     "checksum": "e801d1f0bf6f579c57e834bbbc40b734",
     "grade": true,
     "grade_id": "correct_death_corona",
     "locked": true,
     "points": 4,
     "schema_version": 3,
     "solution": false,
     "task": false
    },
    "pycharm": {
     "name": "#%%\n"
    }
   },
   "outputs": [],
   "source": [
    "# Tests for auto-grading (check variables to be graded).\n",
    "assert isinstance(countries, list) or isinstance(countries, np.ndarray)\n",
    "assert isinstance(rel_deaths, dict)\n",
    "assert isinstance(population, dict)\n",
    "assert isinstance(deaths, dict)\n",
    "assert isinstance(country_max_mortality, str)"
   ]
  },
  {
   "cell_type": "code",
   "execution_count": 165,
   "metadata": {
    "deletable": false,
    "editable": false,
    "nbgrader": {
     "cell_type": "code",
     "checksum": "0a8c5a1b3378bd8470dca6ab753ea098",
     "grade": true,
     "grade_id": "correct_cum_corona",
     "locked": true,
     "points": 2,
     "schema_version": 3,
     "solution": false,
     "task": false
    },
    "pycharm": {
     "name": "#%%\n"
    }
   },
   "outputs": [],
   "source": [
    "assert isinstance(cum_death, np.ndarray)\n",
    "assert isinstance(cum_cases, np.ndarray)"
   ]
  },
  {
   "cell_type": "code",
   "execution_count": 166,
   "metadata": {
    "deletable": false,
    "editable": false,
    "nbgrader": {
     "cell_type": "code",
     "checksum": "b764165abb94b3ec6d612e3f42679323",
     "grade": true,
     "grade_id": "correct_func_implement",
     "locked": true,
     "points": 3,
     "schema_version": 3,
     "solution": false,
     "task": false
    },
    "pycharm": {
     "name": "#%%\n"
    }
   },
   "outputs": [],
   "source": [
    "assert fun_1(0, 0, 0) == 0\n",
    "assert fun_2(0, 0, 0, 0) == 0\n",
    "assert fun_3(0, 0, 0, 0) == 0\n",
    "assert fun_4(0, 0, 0, 0, 0) == 0"
   ]
  },
  {
   "cell_type": "code",
   "execution_count": 167,
   "metadata": {
    "deletable": false,
    "editable": false,
    "nbgrader": {
     "cell_type": "code",
     "checksum": "7879ca6506901ef88df73f57fd0cd2ba",
     "grade": true,
     "grade_id": "correct_func_test",
     "locked": true,
     "points": 4,
     "schema_version": 3,
     "solution": false,
     "task": false
    },
    "pycharm": {
     "name": "#%%\n"
    }
   },
   "outputs": [],
   "source": [
    "assert param_1 is not None\n",
    "assert param_2 is not None\n",
    "assert param_3 is not None\n",
    "assert param_4 is not None\n",
    "assert isinstance(answer_best_fun, int)\n",
    "assert isinstance(answer_change_14_days, bool)\n",
    "assert isinstance(answer_best_fun_14_days, int)\n",
    "assert isinstance(answer_explanation, str)"
   ]
  },
  {
   "cell_type": "code",
   "execution_count": 168,
   "metadata": {
    "deletable": false,
    "editable": false,
    "nbgrader": {
     "cell_type": "code",
     "checksum": "be2138f770e4b09679c5a041ad1216ef",
     "grade": true,
     "grade_id": "correct_NN",
     "locked": true,
     "points": 2,
     "schema_version": 3,
     "solution": false,
     "task": false
    },
    "pycharm": {
     "name": "#%%\n"
    }
   },
   "outputs": [],
   "source": [
    "assert isinstance(answer_nn, str)"
   ]
  },
  {
   "cell_type": "markdown",
   "metadata": {
    "pycharm": {
     "name": "#%% md\n"
    }
   },
   "source": [
    "## 1.2 Snake Game (not graded)"
   ]
  },
  {
   "cell_type": "markdown",
   "metadata": {
    "pycharm": {
     "name": "#%% md\n"
    }
   },
   "source": [
    "In this exercise you will implement the retro game [Snake](https://en.wikipedia.org/wiki/Snake_(video_game_genre)) to learn Python. There are already many tutorials and possible ways to do this on the web. You can consult [https://www.edureka.co/blog/snake-game-with-pygame/](https://www.edureka.co/blog/snake-game-with-pygame/) or [https://pythonspot.com/snake-with-pygame/](https://pythonspot.com/snake-with-pygame/) if you get stuck. For this implementation, we need ``pygame``. If you did not install the package in the preliminaries above, you have to do it now. Start with this backbone. You have to implement the functions ``generate_food_position``, ``move_snake``, ``check_crash_walls`` and ``check_crash_self`` yourself to do the following tasks.Note that you have to take care of limiting the length in the move of the snake.\n",
    "\n",
    "* Game Over when snake hits the boundaries.\n",
    "* Adding the food: Snake can eat randomly spawning pixels.\n",
    "* Increasing the length of the snake.\n",
    "* Displaying the Score at the end.\n",
    "\n",
    "How does this relate to Machine learning? Reinforcement learning [(RL)](https://en.wikipedia.org/wiki/Reinforcement_learning) is a field of machine learning that trains intelligent agents to choose actions in an environment in order to maximize a certain reward. Very often nerual networks are used by agents to choose the best action. Lots of methods and adavances in RL are tested with games. In this case, an AI is to be trained to play the game targeted to achieve the highest score/ the longest snake before crashing. "
   ]
  },
  {
   "cell_type": "code",
   "execution_count": 169,
   "metadata": {
    "deletable": false,
    "nbgrader": {
     "cell_type": "code",
     "checksum": "21a17caebca472b72ff2dad074be8a0d",
     "grade": false,
     "grade_id": "snake_game",
     "locked": false,
     "schema_version": 3,
     "solution": true,
     "task": false
    },
    "pycharm": {
     "name": "#%%\n"
    }
   },
   "outputs": [],
   "source": [
    "import pygame\n",
    "import random\n",
    "\n",
    "# Some global parameters to define color, sizes etc.\n",
    "white = (255, 255, 255)\n",
    "yellow = (255, 255, 102)\n",
    "black = (0, 0, 0)\n",
    "red = (213, 50, 80)\n",
    "green = (0, 255, 0)\n",
    "blue = (50, 153, 213)\n",
    "dis_width = 600\n",
    "dis_height = 400\n",
    "snake_block = 10  # size of a snake segment\n",
    "snake_speed = 15  # speed\n",
    "\n",
    "\n",
    "def Your_score(score):\n",
    "    \"\"\"Print the score on screen.\"\"\"\n",
    "    score_font = pygame.font.SysFont(\"comicsansms\", 15)\n",
    "    value = score_font.render(\"Your Score: \" + str(score), True, yellow)\n",
    "    dis.blit(value, [0, 0])\n",
    "\n",
    "\n",
    "def message(msg, color):\n",
    "    font_style = pygame.font.SysFont(\"bahnschrift\", 25)\n",
    "    mesg = font_style.render(msg, True, color)\n",
    "    dis.blit(mesg, [dis_width / 6, dis_height / 3])\n",
    "\n",
    "\n",
    "def draw_our_snake(snake_block, snake_list):\n",
    "    \"\"\"Draw the snake.\"\"\"\n",
    "    for x in snake_list:\n",
    "        pygame.draw.rect(dis, black, [x[0], x[1], snake_block, snake_block])\n",
    "\n",
    "\n",
    "def generate_food_position():\n",
    "    \"\"\"Make random food position.\"\"\"\n",
    "    # @TODO: Make random position\n",
    "    foodx = round(random.randrange(0, dis_width - snake_block) / 10.0) * 10.0\n",
    "    foody = round(random.randrange(0, dis_height - snake_block) / 10.0) * 10.0\n",
    "    return [foodx, foody]\n",
    "\n",
    "\n",
    "def move_snake(snake_List, snake_Head, Length_of_snake, do_append=True):\n",
    "    \"\"\"Move the snake with new head\"\"\"\n",
    "    if do_append:\n",
    "        snake_List.append(snake_Head)\n",
    "    # @TODO: Limit the snake list to fix length\n",
    "    if len(snake_List) > Length_of_snake:\n",
    "        del snake_List[0]\n",
    "    \n",
    "\n",
    "\n",
    "def check_crash_walls(x1, y1):\n",
    "    \"\"\"Check if it hits the wall\"\"\"\n",
    "    crash_detect = False\n",
    "    # @TODO: Check Wall collision\n",
    "    if x1 < 0 or x1 > dis_width or y1 < 0 or y1 > dis_height:\n",
    "        crash_detect = True\n",
    "    \n",
    "    return crash_detect\n",
    "\n",
    "\n",
    "def check_crash_self(snake_List, snake_Head):\n",
    "    \"\"\"Check if snake crashed in itself.\"\"\"\n",
    "    found_crash = False\n",
    "    # @TODO: Check Self collision\n",
    "    for x in snake_List[:-1]:\n",
    "        if snake_Head[0] == x[0] and snake_Head[1] == x[1]:\n",
    "            found_crash = True\n",
    "    \n",
    "    return found_crash\n",
    "\n",
    "\n",
    "def gameLoop():\n",
    "    game_over = False\n",
    "    game_close = False\n",
    "\n",
    "    x1 = dis_width / 2\n",
    "    y1 = dis_height / 2\n",
    "\n",
    "    x1_change = 0\n",
    "    y1_change = 0\n",
    "\n",
    "    snake_List = []  # list of coordinates [[x1, y1], [x1, y1], ...]\n",
    "    Length_of_snake = 1\n",
    "\n",
    "    foodx, foody = generate_food_position()\n",
    "\n",
    "    while not game_over:\n",
    "\n",
    "        while game_close == True:\n",
    "            dis.fill(blue)\n",
    "            message(\"You Lost! Press C-Play Again or Q-Quit\", red)\n",
    "            Your_score(Length_of_snake - 1)\n",
    "            pygame.display.update()\n",
    "\n",
    "            for event in pygame.event.get():\n",
    "                if event.type == pygame.KEYDOWN:\n",
    "                    if event.key == pygame.K_q:\n",
    "                        game_over = True\n",
    "                        game_close = False\n",
    "                    if event.key == pygame.K_c:\n",
    "                        gameLoop()\n",
    "\n",
    "        for event in pygame.event.get():\n",
    "            if event.type == pygame.QUIT:\n",
    "                game_over = True\n",
    "            if event.type == pygame.KEYDOWN:\n",
    "                if event.key == pygame.K_LEFT and x1_change != snake_block:\n",
    "                    x1_change = -snake_block\n",
    "                    y1_change = 0\n",
    "                elif event.key == pygame.K_RIGHT and x1_change != -snake_block:\n",
    "                    x1_change = snake_block\n",
    "                    y1_change = 0\n",
    "                elif event.key == pygame.K_UP and y1_change != snake_block:\n",
    "                    y1_change = -snake_block\n",
    "                    x1_change = 0\n",
    "                elif event.key == pygame.K_DOWN and y1_change != -snake_block:\n",
    "                    y1_change = snake_block\n",
    "                    x1_change = 0\n",
    "\n",
    "        if check_crash_walls(x1, y1):\n",
    "            game_close = True\n",
    "        x1 += x1_change\n",
    "        y1 += y1_change\n",
    "\n",
    "        dis.fill(blue)\n",
    "        pygame.draw.rect(dis, green, [foodx, foody, snake_block, snake_block])\n",
    "\n",
    "        snake_Head = [x1, y1]\n",
    "        move_snake(snake_List, snake_Head, Length_of_snake)\n",
    "\n",
    "        if check_crash_self(snake_List, snake_Head):\n",
    "            game_close = True\n",
    "\n",
    "        draw_our_snake(snake_block, snake_List)\n",
    "        Your_score(Length_of_snake - 1)\n",
    "\n",
    "        pygame.display.update()\n",
    "\n",
    "        if x1 == foodx and y1 == foody:\n",
    "            foodx, foody = generate_food_position()\n",
    "            Length_of_snake += 1\n",
    "\n",
    "        clock.tick(snake_speed)\n",
    "\n",
    "    pygame.quit()\n",
    "    # quit()\n"
   ]
  },
  {
   "cell_type": "markdown",
   "metadata": {
    "pycharm": {
     "name": "#%% md\n"
    }
   },
   "source": [
    "Add the tasks to the game and have fun playing :) To test your implementation set ``run_game = True`` and execute cell."
   ]
  },
  {
   "cell_type": "code",
   "execution_count": 170,
   "metadata": {
    "pycharm": {
     "name": "#%%\n"
    }
   },
   "outputs": [],
   "source": [
    "run_game = False  # please submit you answer with run_game = False\n",
    "if run_game:\n",
    "    pygame.init()\n",
    "    dis = pygame.display.set_mode((dis_width, dis_height))\n",
    "    pygame.display.set_caption('Snake Game')\n",
    "    clock = pygame.time.Clock()\n",
    "    gameLoop()"
   ]
  },
  {
   "cell_type": "code",
   "execution_count": null,
   "metadata": {
    "deletable": false,
    "nbgrader": {
     "cell_type": "code",
     "checksum": "b3b5b5ccb15f346e0c69ae62820c25bb",
     "grade": false,
     "grade_id": "snake_tests",
     "locked": false,
     "schema_version": 3,
     "solution": true,
     "task": false
    },
    "pycharm": {
     "name": "#%%\n"
    }
   },
   "outputs": [],
   "source": []
  },
  {
   "cell_type": "code",
   "execution_count": null,
   "metadata": {},
   "outputs": [],
   "source": []
  }
 ],
 "metadata": {
  "kernelspec": {
   "display_name": "Python 3 (ipykernel)",
   "language": "python",
   "name": "python3"
  },
  "language_info": {
   "codemirror_mode": {
    "name": "ipython",
    "version": 3
   },
   "file_extension": ".py",
   "mimetype": "text/x-python",
   "name": "python",
   "nbconvert_exporter": "python",
   "pygments_lexer": "ipython3",
   "version": "3.9.12"
  }
 },
 "nbformat": 4,
 "nbformat_minor": 4
}
